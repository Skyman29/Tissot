{
 "cells": [
  {
   "cell_type": "code",
   "execution_count": 1,
   "id": "5635d259",
   "metadata": {},
   "outputs": [
    {
     "data": {
      "text/html": [
       "        <script type=\"text/javascript\">\n",
       "        window.PlotlyConfig = {MathJaxConfig: 'local'};\n",
       "        if (window.MathJax && window.MathJax.Hub && window.MathJax.Hub.Config) {window.MathJax.Hub.Config({SVG: {font: \"STIX-Web\"}});}\n",
       "        if (typeof require !== 'undefined') {\n",
       "        require.undef(\"plotly\");\n",
       "        requirejs.config({\n",
       "            paths: {\n",
       "                'plotly': ['https://cdn.plot.ly/plotly-2.14.0.min']\n",
       "            }\n",
       "        });\n",
       "        require(['plotly'], function(Plotly) {\n",
       "            window._Plotly = Plotly;\n",
       "        });\n",
       "        }\n",
       "        </script>\n",
       "        "
      ]
     },
     "metadata": {},
     "output_type": "display_data"
    }
   ],
   "source": [
    "#import \n",
    "import pandas as pd\n",
    "import numpy as np\n",
    "from scipy import stats\n",
    "import matplotlib.pyplot as plt\n",
    "import seaborn as sns\n",
    "import plotly.graph_objects as go\n",
    "import plotly.express as px\n",
    "from plotly.offline import download_plotlyjs,init_notebook_mode,plot,iplot\n",
    "from matplotlib.offsetbox import AnchoredText\n",
    "init_notebook_mode(connected=True)\n",
    "from IPython.display import Markdown as md"
   ]
  },
  {
   "cell_type": "code",
   "execution_count": 2,
   "id": "16f0614e",
   "metadata": {},
   "outputs": [],
   "source": [
    "# Import and Checking Data"
   ]
  },
  {
   "cell_type": "code",
   "execution_count": 3,
   "id": "e3dc5d16",
   "metadata": {},
   "outputs": [],
   "source": [
    "#get dataset\n",
    "df = pd.read_csv('Dataset.csv', encoding = 'utf-8')"
   ]
  },
  {
   "cell_type": "code",
   "execution_count": 4,
   "id": "040ba56d",
   "metadata": {},
   "outputs": [],
   "source": [
    "# df.info()\n",
    "\n",
    "# <class 'pandas.core.frame.DataFrame'>\n",
    "# RangeIndex: 392105 entries, 0 to 392104\n",
    "# Data columns (total 8 columns):\n",
    "#  #   Column                                       Non-Null Count   Dtype \n",
    "# ---  ------                                       --------------   ----- \n",
    "#  0   Order Id                                     392105 non-null  int64 \n",
    "#  1   Product categorie                            392105 non-null  object\n",
    "#  2   Product subcategorie                         391264 non-null  object\n",
    "#  3   Product reference                            392105 non-null  int64 \n",
    "#  4   Product quantity                             392105 non-null  int64 \n",
    "#  5   Total price (unit price x product quantity)  392105 non-null  object\n",
    "#  6   Supplier country                             392105 non-null  object\n",
    "#  7   Supplier ID                                  392105 non-null  int64 \n",
    "# dtypes: int64(4), object(4)\n",
    "# memory usage: 23.9+ MB\n",
    "\n",
    "# The column \"Total price (unit price x product quantity)\" should be float64 instead of object (string), we have to convert it."
   ]
  },
  {
   "cell_type": "code",
   "execution_count": 5,
   "id": "482f3f50",
   "metadata": {},
   "outputs": [
    {
     "data": {
      "text/html": [
       "<div>\n",
       "<style scoped>\n",
       "    .dataframe tbody tr th:only-of-type {\n",
       "        vertical-align: middle;\n",
       "    }\n",
       "\n",
       "    .dataframe tbody tr th {\n",
       "        vertical-align: top;\n",
       "    }\n",
       "\n",
       "    .dataframe thead th {\n",
       "        text-align: right;\n",
       "    }\n",
       "</style>\n",
       "<table border=\"1\" class=\"dataframe\">\n",
       "  <thead>\n",
       "    <tr style=\"text-align: right;\">\n",
       "      <th></th>\n",
       "      <th>Order Id</th>\n",
       "      <th>Product categorie</th>\n",
       "      <th>Product subcategorie</th>\n",
       "      <th>Product reference</th>\n",
       "      <th>Product quantity</th>\n",
       "      <th>Total price (unit price x product quantity)</th>\n",
       "      <th>Supplier country</th>\n",
       "      <th>Supplier ID</th>\n",
       "    </tr>\n",
       "  </thead>\n",
       "  <tbody>\n",
       "    <tr>\n",
       "      <th>0</th>\n",
       "      <td>61865</td>\n",
       "      <td>Spirits</td>\n",
       "      <td>Anise</td>\n",
       "      <td>483222</td>\n",
       "      <td>2</td>\n",
       "      <td>14.90</td>\n",
       "      <td>Spain</td>\n",
       "      <td>1</td>\n",
       "    </tr>\n",
       "    <tr>\n",
       "      <th>1</th>\n",
       "      <td>62447</td>\n",
       "      <td>Wine</td>\n",
       "      <td>Rosé</td>\n",
       "      <td>822222</td>\n",
       "      <td>12</td>\n",
       "      <td>64.20</td>\n",
       "      <td>Spain</td>\n",
       "      <td>1</td>\n",
       "    </tr>\n",
       "    <tr>\n",
       "      <th>2</th>\n",
       "      <td>64401</td>\n",
       "      <td>Spirits</td>\n",
       "      <td>Herbal liquor</td>\n",
       "      <td>434732</td>\n",
       "      <td>1</td>\n",
       "      <td>13.15</td>\n",
       "      <td>Spain</td>\n",
       "      <td>2</td>\n",
       "    </tr>\n",
       "    <tr>\n",
       "      <th>3</th>\n",
       "      <td>64588</td>\n",
       "      <td>Wine</td>\n",
       "      <td>red</td>\n",
       "      <td>600772</td>\n",
       "      <td>30</td>\n",
       "      <td>172.50</td>\n",
       "      <td>Spain</td>\n",
       "      <td>3</td>\n",
       "    </tr>\n",
       "    <tr>\n",
       "      <th>4</th>\n",
       "      <td>64674</td>\n",
       "      <td>Spirits</td>\n",
       "      <td>Tequila</td>\n",
       "      <td>857357</td>\n",
       "      <td>1</td>\n",
       "      <td>36.70</td>\n",
       "      <td>Spain</td>\n",
       "      <td>1</td>\n",
       "    </tr>\n",
       "    <tr>\n",
       "      <th>...</th>\n",
       "      <td>...</td>\n",
       "      <td>...</td>\n",
       "      <td>...</td>\n",
       "      <td>...</td>\n",
       "      <td>...</td>\n",
       "      <td>...</td>\n",
       "      <td>...</td>\n",
       "      <td>...</td>\n",
       "    </tr>\n",
       "    <tr>\n",
       "      <th>392100</th>\n",
       "      <td>345866</td>\n",
       "      <td>Spirits</td>\n",
       "      <td>Whiskey</td>\n",
       "      <td>1148070</td>\n",
       "      <td>1</td>\n",
       "      <td>204.95</td>\n",
       "      <td>Spain</td>\n",
       "      <td>92</td>\n",
       "    </tr>\n",
       "    <tr>\n",
       "      <th>392101</th>\n",
       "      <td>345866</td>\n",
       "      <td>Spirits</td>\n",
       "      <td>Whiskey</td>\n",
       "      <td>1266684</td>\n",
       "      <td>1</td>\n",
       "      <td>187.25</td>\n",
       "      <td>Spain</td>\n",
       "      <td>92</td>\n",
       "    </tr>\n",
       "    <tr>\n",
       "      <th>392102</th>\n",
       "      <td>345866</td>\n",
       "      <td>Spirits</td>\n",
       "      <td>Vermouth</td>\n",
       "      <td>535065</td>\n",
       "      <td>1</td>\n",
       "      <td>8.18</td>\n",
       "      <td>Spain</td>\n",
       "      <td>92</td>\n",
       "    </tr>\n",
       "    <tr>\n",
       "      <th>392103</th>\n",
       "      <td>345867</td>\n",
       "      <td>Spirits</td>\n",
       "      <td>Vodka</td>\n",
       "      <td>436899</td>\n",
       "      <td>1</td>\n",
       "      <td>12.77</td>\n",
       "      <td>Spain</td>\n",
       "      <td>86</td>\n",
       "    </tr>\n",
       "    <tr>\n",
       "      <th>392104</th>\n",
       "      <td>345868</td>\n",
       "      <td>Wine</td>\n",
       "      <td>red</td>\n",
       "      <td>1255509</td>\n",
       "      <td>7</td>\n",
       "      <td>101.08</td>\n",
       "      <td>Italy</td>\n",
       "      <td>51</td>\n",
       "    </tr>\n",
       "  </tbody>\n",
       "</table>\n",
       "<p>392105 rows × 8 columns</p>\n",
       "</div>"
      ],
      "text/plain": [
       "        Order Id Product categorie Product subcategorie  Product reference  \\\n",
       "0          61865           Spirits                Anise             483222   \n",
       "1          62447              Wine                 Rosé             822222   \n",
       "2          64401           Spirits        Herbal liquor             434732   \n",
       "3          64588              Wine                  red             600772   \n",
       "4          64674           Spirits              Tequila             857357   \n",
       "...          ...               ...                  ...                ...   \n",
       "392100    345866           Spirits              Whiskey            1148070   \n",
       "392101    345866           Spirits              Whiskey            1266684   \n",
       "392102    345866           Spirits             Vermouth             535065   \n",
       "392103    345867           Spirits                Vodka             436899   \n",
       "392104    345868              Wine                  red            1255509   \n",
       "\n",
       "        Product quantity  Total price (unit price x product quantity)  \\\n",
       "0                      2                                        14.90   \n",
       "1                     12                                        64.20   \n",
       "2                      1                                        13.15   \n",
       "3                     30                                       172.50   \n",
       "4                      1                                        36.70   \n",
       "...                  ...                                          ...   \n",
       "392100                 1                                       204.95   \n",
       "392101                 1                                       187.25   \n",
       "392102                 1                                         8.18   \n",
       "392103                 1                                        12.77   \n",
       "392104                 7                                       101.08   \n",
       "\n",
       "       Supplier country  Supplier ID  \n",
       "0                 Spain            1  \n",
       "1                 Spain            1  \n",
       "2                 Spain            2  \n",
       "3                 Spain            3  \n",
       "4                 Spain            1  \n",
       "...                 ...          ...  \n",
       "392100            Spain           92  \n",
       "392101            Spain           92  \n",
       "392102            Spain           92  \n",
       "392103            Spain           86  \n",
       "392104            Italy           51  \n",
       "\n",
       "[392105 rows x 8 columns]"
      ]
     },
     "execution_count": 5,
     "metadata": {},
     "output_type": "execute_result"
    }
   ],
   "source": [
    "try:\n",
    "    df['Total price (unit price x product quantity)'] = df['Total price (unit price x product quantity)'].astype(float)\n",
    "except ValueError as err:\n",
    "#     print(\"There is an error : \",err)\n",
    "    pass\n",
    "    \n",
    "# There is an error :  could not convert string to float: '1 140.48'\n",
    "# Converting this 'number' failed because of the gap between thousands and hundreds. All gap must be deleted\n",
    "\n",
    "try:\n",
    "    df['Total price (unit price x product quantity)'] = df['Total price (unit price x product quantity)'].apply(lambda x: float(x.split()[0].replace(' ', '')))\n",
    "    df['Total price (unit price x product quantity)'] = df['Total price (unit price x product quantity)'].astype(float)\n",
    "except ValueError as err:\n",
    "    print(err)\n",
    "\n",
    "#Get a simple view of the dataset\n",
    "# df"
   ]
  },
  {
   "cell_type": "code",
   "execution_count": 6,
   "id": "8dc6ce7a",
   "metadata": {},
   "outputs": [
    {
     "data": {
      "text/html": [
       "<div>\n",
       "<style scoped>\n",
       "    .dataframe tbody tr th:only-of-type {\n",
       "        vertical-align: middle;\n",
       "    }\n",
       "\n",
       "    .dataframe tbody tr th {\n",
       "        vertical-align: top;\n",
       "    }\n",
       "\n",
       "    .dataframe thead th {\n",
       "        text-align: right;\n",
       "    }\n",
       "</style>\n",
       "<table border=\"1\" class=\"dataframe\">\n",
       "  <thead>\n",
       "    <tr style=\"text-align: right;\">\n",
       "      <th></th>\n",
       "      <th>Order Id</th>\n",
       "      <th>Product reference</th>\n",
       "      <th>Product quantity</th>\n",
       "      <th>Total price (unit price x product quantity)</th>\n",
       "      <th>Supplier ID</th>\n",
       "    </tr>\n",
       "  </thead>\n",
       "  <tbody>\n",
       "    <tr>\n",
       "      <th>count</th>\n",
       "      <td>392105.000000</td>\n",
       "      <td>3.921050e+05</td>\n",
       "      <td>392105.000000</td>\n",
       "      <td>392105.000000</td>\n",
       "      <td>392105.000000</td>\n",
       "    </tr>\n",
       "    <tr>\n",
       "      <th>mean</th>\n",
       "      <td>206362.621048</td>\n",
       "      <td>7.745483e+05</td>\n",
       "      <td>5.406034</td>\n",
       "      <td>69.142458</td>\n",
       "      <td>71.792961</td>\n",
       "    </tr>\n",
       "    <tr>\n",
       "      <th>std</th>\n",
       "      <td>79428.420626</td>\n",
       "      <td>3.062226e+05</td>\n",
       "      <td>8.781861</td>\n",
       "      <td>87.661182</td>\n",
       "      <td>62.018536</td>\n",
       "    </tr>\n",
       "    <tr>\n",
       "      <th>min</th>\n",
       "      <td>61865.000000</td>\n",
       "      <td>4.300000e+01</td>\n",
       "      <td>1.000000</td>\n",
       "      <td>0.010000</td>\n",
       "      <td>1.000000</td>\n",
       "    </tr>\n",
       "    <tr>\n",
       "      <th>25%</th>\n",
       "      <td>138464.000000</td>\n",
       "      <td>4.457420e+05</td>\n",
       "      <td>1.000000</td>\n",
       "      <td>19.400000</td>\n",
       "      <td>6.000000</td>\n",
       "    </tr>\n",
       "    <tr>\n",
       "      <th>50%</th>\n",
       "      <td>206161.000000</td>\n",
       "      <td>8.075040e+05</td>\n",
       "      <td>3.000000</td>\n",
       "      <td>40.450000</td>\n",
       "      <td>86.000000</td>\n",
       "    </tr>\n",
       "    <tr>\n",
       "      <th>75%</th>\n",
       "      <td>274664.000000</td>\n",
       "      <td>1.064266e+06</td>\n",
       "      <td>6.000000</td>\n",
       "      <td>84.600000</td>\n",
       "      <td>124.000000</td>\n",
       "    </tr>\n",
       "    <tr>\n",
       "      <th>max</th>\n",
       "      <td>345868.000000</td>\n",
       "      <td>1.336152e+06</td>\n",
       "      <td>1440.000000</td>\n",
       "      <td>999.800000</td>\n",
       "      <td>265.000000</td>\n",
       "    </tr>\n",
       "  </tbody>\n",
       "</table>\n",
       "</div>"
      ],
      "text/plain": [
       "            Order Id  Product reference  Product quantity  \\\n",
       "count  392105.000000       3.921050e+05     392105.000000   \n",
       "mean   206362.621048       7.745483e+05          5.406034   \n",
       "std     79428.420626       3.062226e+05          8.781861   \n",
       "min     61865.000000       4.300000e+01          1.000000   \n",
       "25%    138464.000000       4.457420e+05          1.000000   \n",
       "50%    206161.000000       8.075040e+05          3.000000   \n",
       "75%    274664.000000       1.064266e+06          6.000000   \n",
       "max    345868.000000       1.336152e+06       1440.000000   \n",
       "\n",
       "       Total price (unit price x product quantity)    Supplier ID  \n",
       "count                                392105.000000  392105.000000  \n",
       "mean                                     69.142458      71.792961  \n",
       "std                                      87.661182      62.018536  \n",
       "min                                       0.010000       1.000000  \n",
       "25%                                      19.400000       6.000000  \n",
       "50%                                      40.450000      86.000000  \n",
       "75%                                      84.600000     124.000000  \n",
       "max                                     999.800000     265.000000  "
      ]
     },
     "execution_count": 6,
     "metadata": {},
     "output_type": "execute_result"
    }
   ],
   "source": [
    "# df.describe()"
   ]
  },
  {
   "cell_type": "code",
   "execution_count": 7,
   "id": "cf8aba84",
   "metadata": {},
   "outputs": [],
   "source": [
    "# Check dataset\n",
    "\n",
    "# Check for null value\n",
    "# df.isnull().sum()\n",
    "\n",
    "# Order Id                                         0\n",
    "# Product categorie                                0\n",
    "# Product subcategorie                           841\n",
    "# Product reference                                0\n",
    "# Product quantity                                 0\n",
    "# Total price (unit price x product quantity)      0\n",
    "# Supplier country                                 0\n",
    "# Supplier ID                                      0\n",
    "# dtype: int64\n",
    "\n",
    "# There are null values in only one column : Product subcategorie \n",
    "# Is it a problem ?\n",
    "# Let's see which Product categories have no subcategory :\n",
    "\n",
    "# print(df[df.isnull().any(axis=1)]['Product categorie'].unique())\n",
    "# ['Beer']\n",
    "\n",
    "# There is only one single Product category having no subcategory : Beer\n",
    "# It has no impact on our dataset.\n",
    "\n",
    "# The dataset contains many categorical columns\n",
    "# They have to be checked for spelling"
   ]
  },
  {
   "cell_type": "code",
   "execution_count": 8,
   "id": "83d727bb",
   "metadata": {},
   "outputs": [],
   "source": [
    "# for col in list(df.select_dtypes(['object']).columns):\n",
    "#   print(df[col].sort_values().unique())\n",
    "\n",
    "# ['Accessories' 'Beer' 'Christmas gifts' 'Gourmet' 'Lots and gifts'\n",
    "#  'Spirits' 'Wine']\n",
    "# ['Abbey' 'Absinthe' 'Absinthe service accessories' 'Accessories'\n",
    "#  'Aerators & oxygenators' 'Aguardiente' 'Alcohol-free' 'Ale' 'Algae'\n",
    "#  'Altbier' 'Amaretto' 'AmbrÃ©e beer' 'American Pale Ale' 'Anise'\n",
    "#  'Appetizers' 'Armagnac' 'Aroma kits' 'Bakery' 'Barley wine'\n",
    "#  'Belgian Strong Pale Ale' 'Bio' 'Bitter' 'Black IPA' 'Black beer'\n",
    "#  'Blond Ale' 'Bock' 'Books' 'Bottle racks' 'Bourbon' 'Brandy' 'Brown Ale'\n",
    "#  'CachaÃ§a' 'Calvados' 'Caviar' 'Champagne' 'Cheese' 'Chocolate'\n",
    "#  'Christmas' 'Christmas Gift Baskets' 'Christmas Gifts'\n",
    "#  'Christmas Gourmet Selection' 'Christmas baskets' 'Cider'\n",
    "#  'Cocktail service accessories' 'Cocottes and fondues' 'Coffee'\n",
    "#  'Coffee liquor' 'Coffeemakers and teapots' 'Cognac' 'Condiments'\n",
    "#  'Coolers' 'Corkscrews' 'Craft' 'Decanters' 'Deli' 'Desserts & Sweets'\n",
    "#  'Dortmunder' 'Dried fruits' 'Dubbel' 'Export' 'Flask' 'Frangelico'\n",
    "#  'Fruit' 'Fruit liquor' 'Fruits' 'Gift boxes' 'Gift packs' 'Gifts' 'Gin'\n",
    "#  'Glasses' 'Golden beer' 'Gourmet' 'Grappa' 'Gueuze' 'Ham holder' 'Hams'\n",
    "#  'Hefeweizen' 'Herbal liquor' 'Herbs and spices' 'Honey' 'Household'\n",
    "#  'Imperial Stout' 'Indian Pale Ale' 'Irish Ale' 'Jams' 'Juices'\n",
    "#  'Kellerbier' 'Kriek' 'KÃ¶lsch' 'Lager' 'Lambic' 'Legumes and vegetables'\n",
    "#  'Limoncello' 'Liquors & creams' 'Lots and gifts' 'Marc' 'Marc cream'\n",
    "#  'Mezcal' 'Miniatures' 'Mushrooms' 'MÃ¤rzenbier' 'Nougat' 'Oils' 'Old Ale'\n",
    "#  'Olive oil' 'PacharÃ¡n' 'Pasta' 'Pastis' 'Pastries and cakes' 'Pates'\n",
    "#  'Pickles' 'Pilsener' 'Pisco' 'Plugs & vacuum pumps' 'Porter' 'Preserves'\n",
    "#  'Quadrupel' 'Ratafia' 'Ready Meals' 'Red Ale' 'Rice' 'Rosé' 'Rum'\n",
    "#  'Rye beer' 'Saison' 'Sake' 'Salt' 'Sambuca' 'Sangria'\n",
    "#  'Sauces and mustards' 'Sausages' 'Scottish Ale' 'Sliced' 'Smoked'\n",
    "#  'Soft drinks and Mixers' 'Soups and creams' 'Special' 'Spirits' 'Stout'\n",
    "#  'Strong Ale' 'Sugar' 'Syrup' 'Tea and infusions' 'Tequila' 'Textures'\n",
    "#  'Thermometers' 'Tonic' 'Trappist' 'Triple Sec' 'Vermouth' 'Vinegars'\n",
    "#  'Vodka' 'Water' 'Wheat' 'Whiskey' 'Whiskey Cream' 'Wine boxes'\n",
    "#  'Wine cellars' 'Wine service accessories' 'Wines to offer' 'Winter Ale'\n",
    "#  'de Garde' 'fortified' 'ice buckets' 'red' 'sparkling' 'sweet' 'white'\n",
    "#  nan]\n",
    "# ['Belgium' 'France' 'Germany' 'Greece' 'Italy' 'Luxembourg' 'Netherlands'\n",
    "#  'Portugal' 'Serbia' 'Spain' 'United Kingdom']\n",
    "\n",
    "# Different writings do not overlap\n",
    "# The dataset can be used as it"
   ]
  },
  {
   "cell_type": "markdown",
   "id": "62eb2174",
   "metadata": {},
   "source": [
    "# Analysis\n",
    "\n",
    "## Sales\n",
    "\n",
    "Here are some indicators from the raw dataset.\n",
    "As a reminder: the average order value is equal to $\\Large\\frac{total  sales}{total N. Order}$"
   ]
  },
  {
   "cell_type": "code",
   "execution_count": 9,
   "id": "0fc5bffa",
   "metadata": {},
   "outputs": [
    {
     "data": {
      "application/vnd.plotly.v1+json": {
       "config": {
        "plotlyServerURL": "https://plot.ly"
       },
       "data": [
        {
         "domain": {
          "x": [
           0,
           0.3333333333333333
          ],
          "y": [
           0,
           1
          ]
         },
         "mode": "number",
         "number": {
          "font": {
           "size": 65
          }
         },
         "title": {
          "text": "Total Sales"
         },
         "type": "indicator",
         "uid": "f81dd070-14d1-4f65-9f68-9cc46a99a255",
         "value": 27111103.559999995
        },
        {
         "domain": {
          "x": [
           0.3333333333333333,
           0.6666666666666666
          ],
          "y": [
           0,
           1
          ]
         },
         "mode": "number",
         "number": {
          "font": {
           "size": 65
          }
         },
         "title": {
          "text": "Total N. Order"
         },
         "type": "indicator",
         "uid": "93aa7fa9-4bd5-4b3e-a968-ecd245953c73",
         "value": 217988
        },
        {
         "domain": {
          "x": [
           0.6666666666666666,
           1
          ],
          "y": [
           0,
           1
          ]
         },
         "mode": "number",
         "number": {
          "font": {
           "size": 65
          }
         },
         "title": {
          "text": "Average Order Value"
         },
         "type": "indicator",
         "uid": "693ef6ec-763d-42a1-a530-b87dd8ba13f5",
         "value": 124.36970640585719
        }
       ],
       "layout": {
        "autosize": false,
        "height": 250,
        "template": {
         "data": {
          "bar": [
           {
            "error_x": {
             "color": "#2a3f5f"
            },
            "error_y": {
             "color": "#2a3f5f"
            },
            "marker": {
             "line": {
              "color": "#E5ECF6",
              "width": 0.5
             },
             "pattern": {
              "fillmode": "overlay",
              "size": 10,
              "solidity": 0.2
             }
            },
            "type": "bar"
           }
          ],
          "barpolar": [
           {
            "marker": {
             "line": {
              "color": "#E5ECF6",
              "width": 0.5
             },
             "pattern": {
              "fillmode": "overlay",
              "size": 10,
              "solidity": 0.2
             }
            },
            "type": "barpolar"
           }
          ],
          "carpet": [
           {
            "aaxis": {
             "endlinecolor": "#2a3f5f",
             "gridcolor": "white",
             "linecolor": "white",
             "minorgridcolor": "white",
             "startlinecolor": "#2a3f5f"
            },
            "baxis": {
             "endlinecolor": "#2a3f5f",
             "gridcolor": "white",
             "linecolor": "white",
             "minorgridcolor": "white",
             "startlinecolor": "#2a3f5f"
            },
            "type": "carpet"
           }
          ],
          "choropleth": [
           {
            "colorbar": {
             "outlinewidth": 0,
             "ticks": ""
            },
            "type": "choropleth"
           }
          ],
          "contour": [
           {
            "colorbar": {
             "outlinewidth": 0,
             "ticks": ""
            },
            "colorscale": [
             [
              0,
              "#0d0887"
             ],
             [
              0.1111111111111111,
              "#46039f"
             ],
             [
              0.2222222222222222,
              "#7201a8"
             ],
             [
              0.3333333333333333,
              "#9c179e"
             ],
             [
              0.4444444444444444,
              "#bd3786"
             ],
             [
              0.5555555555555556,
              "#d8576b"
             ],
             [
              0.6666666666666666,
              "#ed7953"
             ],
             [
              0.7777777777777778,
              "#fb9f3a"
             ],
             [
              0.8888888888888888,
              "#fdca26"
             ],
             [
              1,
              "#f0f921"
             ]
            ],
            "type": "contour"
           }
          ],
          "contourcarpet": [
           {
            "colorbar": {
             "outlinewidth": 0,
             "ticks": ""
            },
            "type": "contourcarpet"
           }
          ],
          "heatmap": [
           {
            "colorbar": {
             "outlinewidth": 0,
             "ticks": ""
            },
            "colorscale": [
             [
              0,
              "#0d0887"
             ],
             [
              0.1111111111111111,
              "#46039f"
             ],
             [
              0.2222222222222222,
              "#7201a8"
             ],
             [
              0.3333333333333333,
              "#9c179e"
             ],
             [
              0.4444444444444444,
              "#bd3786"
             ],
             [
              0.5555555555555556,
              "#d8576b"
             ],
             [
              0.6666666666666666,
              "#ed7953"
             ],
             [
              0.7777777777777778,
              "#fb9f3a"
             ],
             [
              0.8888888888888888,
              "#fdca26"
             ],
             [
              1,
              "#f0f921"
             ]
            ],
            "type": "heatmap"
           }
          ],
          "heatmapgl": [
           {
            "colorbar": {
             "outlinewidth": 0,
             "ticks": ""
            },
            "colorscale": [
             [
              0,
              "#0d0887"
             ],
             [
              0.1111111111111111,
              "#46039f"
             ],
             [
              0.2222222222222222,
              "#7201a8"
             ],
             [
              0.3333333333333333,
              "#9c179e"
             ],
             [
              0.4444444444444444,
              "#bd3786"
             ],
             [
              0.5555555555555556,
              "#d8576b"
             ],
             [
              0.6666666666666666,
              "#ed7953"
             ],
             [
              0.7777777777777778,
              "#fb9f3a"
             ],
             [
              0.8888888888888888,
              "#fdca26"
             ],
             [
              1,
              "#f0f921"
             ]
            ],
            "type": "heatmapgl"
           }
          ],
          "histogram": [
           {
            "marker": {
             "pattern": {
              "fillmode": "overlay",
              "size": 10,
              "solidity": 0.2
             }
            },
            "type": "histogram"
           }
          ],
          "histogram2d": [
           {
            "colorbar": {
             "outlinewidth": 0,
             "ticks": ""
            },
            "colorscale": [
             [
              0,
              "#0d0887"
             ],
             [
              0.1111111111111111,
              "#46039f"
             ],
             [
              0.2222222222222222,
              "#7201a8"
             ],
             [
              0.3333333333333333,
              "#9c179e"
             ],
             [
              0.4444444444444444,
              "#bd3786"
             ],
             [
              0.5555555555555556,
              "#d8576b"
             ],
             [
              0.6666666666666666,
              "#ed7953"
             ],
             [
              0.7777777777777778,
              "#fb9f3a"
             ],
             [
              0.8888888888888888,
              "#fdca26"
             ],
             [
              1,
              "#f0f921"
             ]
            ],
            "type": "histogram2d"
           }
          ],
          "histogram2dcontour": [
           {
            "colorbar": {
             "outlinewidth": 0,
             "ticks": ""
            },
            "colorscale": [
             [
              0,
              "#0d0887"
             ],
             [
              0.1111111111111111,
              "#46039f"
             ],
             [
              0.2222222222222222,
              "#7201a8"
             ],
             [
              0.3333333333333333,
              "#9c179e"
             ],
             [
              0.4444444444444444,
              "#bd3786"
             ],
             [
              0.5555555555555556,
              "#d8576b"
             ],
             [
              0.6666666666666666,
              "#ed7953"
             ],
             [
              0.7777777777777778,
              "#fb9f3a"
             ],
             [
              0.8888888888888888,
              "#fdca26"
             ],
             [
              1,
              "#f0f921"
             ]
            ],
            "type": "histogram2dcontour"
           }
          ],
          "mesh3d": [
           {
            "colorbar": {
             "outlinewidth": 0,
             "ticks": ""
            },
            "type": "mesh3d"
           }
          ],
          "parcoords": [
           {
            "line": {
             "colorbar": {
              "outlinewidth": 0,
              "ticks": ""
             }
            },
            "type": "parcoords"
           }
          ],
          "pie": [
           {
            "automargin": true,
            "type": "pie"
           }
          ],
          "scatter": [
           {
            "fillpattern": {
             "fillmode": "overlay",
             "size": 10,
             "solidity": 0.2
            },
            "type": "scatter"
           }
          ],
          "scatter3d": [
           {
            "line": {
             "colorbar": {
              "outlinewidth": 0,
              "ticks": ""
             }
            },
            "marker": {
             "colorbar": {
              "outlinewidth": 0,
              "ticks": ""
             }
            },
            "type": "scatter3d"
           }
          ],
          "scattercarpet": [
           {
            "marker": {
             "colorbar": {
              "outlinewidth": 0,
              "ticks": ""
             }
            },
            "type": "scattercarpet"
           }
          ],
          "scattergeo": [
           {
            "marker": {
             "colorbar": {
              "outlinewidth": 0,
              "ticks": ""
             }
            },
            "type": "scattergeo"
           }
          ],
          "scattergl": [
           {
            "marker": {
             "colorbar": {
              "outlinewidth": 0,
              "ticks": ""
             }
            },
            "type": "scattergl"
           }
          ],
          "scattermapbox": [
           {
            "marker": {
             "colorbar": {
              "outlinewidth": 0,
              "ticks": ""
             }
            },
            "type": "scattermapbox"
           }
          ],
          "scatterpolar": [
           {
            "marker": {
             "colorbar": {
              "outlinewidth": 0,
              "ticks": ""
             }
            },
            "type": "scatterpolar"
           }
          ],
          "scatterpolargl": [
           {
            "marker": {
             "colorbar": {
              "outlinewidth": 0,
              "ticks": ""
             }
            },
            "type": "scatterpolargl"
           }
          ],
          "scatterternary": [
           {
            "marker": {
             "colorbar": {
              "outlinewidth": 0,
              "ticks": ""
             }
            },
            "type": "scatterternary"
           }
          ],
          "surface": [
           {
            "colorbar": {
             "outlinewidth": 0,
             "ticks": ""
            },
            "colorscale": [
             [
              0,
              "#0d0887"
             ],
             [
              0.1111111111111111,
              "#46039f"
             ],
             [
              0.2222222222222222,
              "#7201a8"
             ],
             [
              0.3333333333333333,
              "#9c179e"
             ],
             [
              0.4444444444444444,
              "#bd3786"
             ],
             [
              0.5555555555555556,
              "#d8576b"
             ],
             [
              0.6666666666666666,
              "#ed7953"
             ],
             [
              0.7777777777777778,
              "#fb9f3a"
             ],
             [
              0.8888888888888888,
              "#fdca26"
             ],
             [
              1,
              "#f0f921"
             ]
            ],
            "type": "surface"
           }
          ],
          "table": [
           {
            "cells": {
             "fill": {
              "color": "#EBF0F8"
             },
             "line": {
              "color": "white"
             }
            },
            "header": {
             "fill": {
              "color": "#C8D4E3"
             },
             "line": {
              "color": "white"
             }
            },
            "type": "table"
           }
          ]
         },
         "layout": {
          "annotationdefaults": {
           "arrowcolor": "#2a3f5f",
           "arrowhead": 0,
           "arrowwidth": 1
          },
          "autotypenumbers": "strict",
          "coloraxis": {
           "colorbar": {
            "outlinewidth": 0,
            "ticks": ""
           }
          },
          "colorscale": {
           "diverging": [
            [
             0,
             "#8e0152"
            ],
            [
             0.1,
             "#c51b7d"
            ],
            [
             0.2,
             "#de77ae"
            ],
            [
             0.3,
             "#f1b6da"
            ],
            [
             0.4,
             "#fde0ef"
            ],
            [
             0.5,
             "#f7f7f7"
            ],
            [
             0.6,
             "#e6f5d0"
            ],
            [
             0.7,
             "#b8e186"
            ],
            [
             0.8,
             "#7fbc41"
            ],
            [
             0.9,
             "#4d9221"
            ],
            [
             1,
             "#276419"
            ]
           ],
           "sequential": [
            [
             0,
             "#0d0887"
            ],
            [
             0.1111111111111111,
             "#46039f"
            ],
            [
             0.2222222222222222,
             "#7201a8"
            ],
            [
             0.3333333333333333,
             "#9c179e"
            ],
            [
             0.4444444444444444,
             "#bd3786"
            ],
            [
             0.5555555555555556,
             "#d8576b"
            ],
            [
             0.6666666666666666,
             "#ed7953"
            ],
            [
             0.7777777777777778,
             "#fb9f3a"
            ],
            [
             0.8888888888888888,
             "#fdca26"
            ],
            [
             1,
             "#f0f921"
            ]
           ],
           "sequentialminus": [
            [
             0,
             "#0d0887"
            ],
            [
             0.1111111111111111,
             "#46039f"
            ],
            [
             0.2222222222222222,
             "#7201a8"
            ],
            [
             0.3333333333333333,
             "#9c179e"
            ],
            [
             0.4444444444444444,
             "#bd3786"
            ],
            [
             0.5555555555555556,
             "#d8576b"
            ],
            [
             0.6666666666666666,
             "#ed7953"
            ],
            [
             0.7777777777777778,
             "#fb9f3a"
            ],
            [
             0.8888888888888888,
             "#fdca26"
            ],
            [
             1,
             "#f0f921"
            ]
           ]
          },
          "colorway": [
           "#636efa",
           "#EF553B",
           "#00cc96",
           "#ab63fa",
           "#FFA15A",
           "#19d3f3",
           "#FF6692",
           "#B6E880",
           "#FF97FF",
           "#FECB52"
          ],
          "font": {
           "color": "#2a3f5f"
          },
          "geo": {
           "bgcolor": "white",
           "lakecolor": "white",
           "landcolor": "#E5ECF6",
           "showlakes": true,
           "showland": true,
           "subunitcolor": "white"
          },
          "hoverlabel": {
           "align": "left"
          },
          "hovermode": "closest",
          "mapbox": {
           "style": "light"
          },
          "paper_bgcolor": "white",
          "plot_bgcolor": "#E5ECF6",
          "polar": {
           "angularaxis": {
            "gridcolor": "white",
            "linecolor": "white",
            "ticks": ""
           },
           "bgcolor": "#E5ECF6",
           "radialaxis": {
            "gridcolor": "white",
            "linecolor": "white",
            "ticks": ""
           }
          },
          "scene": {
           "xaxis": {
            "backgroundcolor": "#E5ECF6",
            "gridcolor": "white",
            "gridwidth": 2,
            "linecolor": "white",
            "showbackground": true,
            "ticks": "",
            "zerolinecolor": "white"
           },
           "yaxis": {
            "backgroundcolor": "#E5ECF6",
            "gridcolor": "white",
            "gridwidth": 2,
            "linecolor": "white",
            "showbackground": true,
            "ticks": "",
            "zerolinecolor": "white"
           },
           "zaxis": {
            "backgroundcolor": "#E5ECF6",
            "gridcolor": "white",
            "gridwidth": 2,
            "linecolor": "white",
            "showbackground": true,
            "ticks": "",
            "zerolinecolor": "white"
           }
          },
          "shapedefaults": {
           "line": {
            "color": "#2a3f5f"
           }
          },
          "ternary": {
           "aaxis": {
            "gridcolor": "white",
            "linecolor": "white",
            "ticks": ""
           },
           "baxis": {
            "gridcolor": "white",
            "linecolor": "white",
            "ticks": ""
           },
           "bgcolor": "#E5ECF6",
           "caxis": {
            "gridcolor": "white",
            "linecolor": "white",
            "ticks": ""
           }
          },
          "title": {
           "x": 0.05
          },
          "xaxis": {
           "automargin": true,
           "gridcolor": "white",
           "linecolor": "white",
           "ticks": "",
           "title": {
            "standoff": 15
           },
           "zerolinecolor": "white",
           "zerolinewidth": 2
          },
          "yaxis": {
           "automargin": true,
           "gridcolor": "white",
           "linecolor": "white",
           "ticks": "",
           "title": {
            "standoff": 15
           },
           "zerolinecolor": "white",
           "zerolinewidth": 2
          }
         }
        },
        "width": 1000
       }
      },
      "text/html": [
       "<div>                            <div id=\"240577bb-5a3f-4d76-ba86-269eb140dd91\" class=\"plotly-graph-div\" style=\"height:250px; width:1000px;\"></div>            <script type=\"text/javascript\">                require([\"plotly\"], function(Plotly) {                    window.PLOTLYENV=window.PLOTLYENV || {};                                    if (document.getElementById(\"240577bb-5a3f-4d76-ba86-269eb140dd91\")) {                    Plotly.newPlot(                        \"240577bb-5a3f-4d76-ba86-269eb140dd91\",                        [{\"domain\":{\"x\":[0,0.3333333333333333],\"y\":[0,1]},\"mode\":\"number\",\"number\":{\"font\":{\"size\":65}},\"title\":{\"text\":\"Total Sales\"},\"value\":27111103.559999995,\"type\":\"indicator\",\"uid\":\"f81dd070-14d1-4f65-9f68-9cc46a99a255\"},{\"domain\":{\"x\":[0.3333333333333333,0.6666666666666666],\"y\":[0,1]},\"mode\":\"number\",\"number\":{\"font\":{\"size\":65}},\"title\":{\"text\":\"Total N. Order\"},\"value\":217988,\"type\":\"indicator\",\"uid\":\"93aa7fa9-4bd5-4b3e-a968-ecd245953c73\"},{\"domain\":{\"x\":[0.6666666666666666,1],\"y\":[0,1]},\"mode\":\"number\",\"number\":{\"font\":{\"size\":65}},\"title\":{\"text\":\"Average Order Value\"},\"value\":124.36970640585719,\"type\":\"indicator\",\"uid\":\"693ef6ec-763d-42a1-a530-b87dd8ba13f5\"}],                        {\"template\":{\"data\":{\"barpolar\":[{\"marker\":{\"line\":{\"color\":\"#E5ECF6\",\"width\":0.5},\"pattern\":{\"fillmode\":\"overlay\",\"size\":10,\"solidity\":0.2}},\"type\":\"barpolar\"}],\"bar\":[{\"error_x\":{\"color\":\"#2a3f5f\"},\"error_y\":{\"color\":\"#2a3f5f\"},\"marker\":{\"line\":{\"color\":\"#E5ECF6\",\"width\":0.5},\"pattern\":{\"fillmode\":\"overlay\",\"size\":10,\"solidity\":0.2}},\"type\":\"bar\"}],\"carpet\":[{\"aaxis\":{\"endlinecolor\":\"#2a3f5f\",\"gridcolor\":\"white\",\"linecolor\":\"white\",\"minorgridcolor\":\"white\",\"startlinecolor\":\"#2a3f5f\"},\"baxis\":{\"endlinecolor\":\"#2a3f5f\",\"gridcolor\":\"white\",\"linecolor\":\"white\",\"minorgridcolor\":\"white\",\"startlinecolor\":\"#2a3f5f\"},\"type\":\"carpet\"}],\"choropleth\":[{\"colorbar\":{\"outlinewidth\":0,\"ticks\":\"\"},\"type\":\"choropleth\"}],\"contourcarpet\":[{\"colorbar\":{\"outlinewidth\":0,\"ticks\":\"\"},\"type\":\"contourcarpet\"}],\"contour\":[{\"colorbar\":{\"outlinewidth\":0,\"ticks\":\"\"},\"colorscale\":[[0.0,\"#0d0887\"],[0.1111111111111111,\"#46039f\"],[0.2222222222222222,\"#7201a8\"],[0.3333333333333333,\"#9c179e\"],[0.4444444444444444,\"#bd3786\"],[0.5555555555555556,\"#d8576b\"],[0.6666666666666666,\"#ed7953\"],[0.7777777777777778,\"#fb9f3a\"],[0.8888888888888888,\"#fdca26\"],[1.0,\"#f0f921\"]],\"type\":\"contour\"}],\"heatmapgl\":[{\"colorbar\":{\"outlinewidth\":0,\"ticks\":\"\"},\"colorscale\":[[0.0,\"#0d0887\"],[0.1111111111111111,\"#46039f\"],[0.2222222222222222,\"#7201a8\"],[0.3333333333333333,\"#9c179e\"],[0.4444444444444444,\"#bd3786\"],[0.5555555555555556,\"#d8576b\"],[0.6666666666666666,\"#ed7953\"],[0.7777777777777778,\"#fb9f3a\"],[0.8888888888888888,\"#fdca26\"],[1.0,\"#f0f921\"]],\"type\":\"heatmapgl\"}],\"heatmap\":[{\"colorbar\":{\"outlinewidth\":0,\"ticks\":\"\"},\"colorscale\":[[0.0,\"#0d0887\"],[0.1111111111111111,\"#46039f\"],[0.2222222222222222,\"#7201a8\"],[0.3333333333333333,\"#9c179e\"],[0.4444444444444444,\"#bd3786\"],[0.5555555555555556,\"#d8576b\"],[0.6666666666666666,\"#ed7953\"],[0.7777777777777778,\"#fb9f3a\"],[0.8888888888888888,\"#fdca26\"],[1.0,\"#f0f921\"]],\"type\":\"heatmap\"}],\"histogram2dcontour\":[{\"colorbar\":{\"outlinewidth\":0,\"ticks\":\"\"},\"colorscale\":[[0.0,\"#0d0887\"],[0.1111111111111111,\"#46039f\"],[0.2222222222222222,\"#7201a8\"],[0.3333333333333333,\"#9c179e\"],[0.4444444444444444,\"#bd3786\"],[0.5555555555555556,\"#d8576b\"],[0.6666666666666666,\"#ed7953\"],[0.7777777777777778,\"#fb9f3a\"],[0.8888888888888888,\"#fdca26\"],[1.0,\"#f0f921\"]],\"type\":\"histogram2dcontour\"}],\"histogram2d\":[{\"colorbar\":{\"outlinewidth\":0,\"ticks\":\"\"},\"colorscale\":[[0.0,\"#0d0887\"],[0.1111111111111111,\"#46039f\"],[0.2222222222222222,\"#7201a8\"],[0.3333333333333333,\"#9c179e\"],[0.4444444444444444,\"#bd3786\"],[0.5555555555555556,\"#d8576b\"],[0.6666666666666666,\"#ed7953\"],[0.7777777777777778,\"#fb9f3a\"],[0.8888888888888888,\"#fdca26\"],[1.0,\"#f0f921\"]],\"type\":\"histogram2d\"}],\"histogram\":[{\"marker\":{\"pattern\":{\"fillmode\":\"overlay\",\"size\":10,\"solidity\":0.2}},\"type\":\"histogram\"}],\"mesh3d\":[{\"colorbar\":{\"outlinewidth\":0,\"ticks\":\"\"},\"type\":\"mesh3d\"}],\"parcoords\":[{\"line\":{\"colorbar\":{\"outlinewidth\":0,\"ticks\":\"\"}},\"type\":\"parcoords\"}],\"pie\":[{\"automargin\":true,\"type\":\"pie\"}],\"scatter3d\":[{\"line\":{\"colorbar\":{\"outlinewidth\":0,\"ticks\":\"\"}},\"marker\":{\"colorbar\":{\"outlinewidth\":0,\"ticks\":\"\"}},\"type\":\"scatter3d\"}],\"scattercarpet\":[{\"marker\":{\"colorbar\":{\"outlinewidth\":0,\"ticks\":\"\"}},\"type\":\"scattercarpet\"}],\"scattergeo\":[{\"marker\":{\"colorbar\":{\"outlinewidth\":0,\"ticks\":\"\"}},\"type\":\"scattergeo\"}],\"scattergl\":[{\"marker\":{\"colorbar\":{\"outlinewidth\":0,\"ticks\":\"\"}},\"type\":\"scattergl\"}],\"scattermapbox\":[{\"marker\":{\"colorbar\":{\"outlinewidth\":0,\"ticks\":\"\"}},\"type\":\"scattermapbox\"}],\"scatterpolargl\":[{\"marker\":{\"colorbar\":{\"outlinewidth\":0,\"ticks\":\"\"}},\"type\":\"scatterpolargl\"}],\"scatterpolar\":[{\"marker\":{\"colorbar\":{\"outlinewidth\":0,\"ticks\":\"\"}},\"type\":\"scatterpolar\"}],\"scatter\":[{\"fillpattern\":{\"fillmode\":\"overlay\",\"size\":10,\"solidity\":0.2},\"type\":\"scatter\"}],\"scatterternary\":[{\"marker\":{\"colorbar\":{\"outlinewidth\":0,\"ticks\":\"\"}},\"type\":\"scatterternary\"}],\"surface\":[{\"colorbar\":{\"outlinewidth\":0,\"ticks\":\"\"},\"colorscale\":[[0.0,\"#0d0887\"],[0.1111111111111111,\"#46039f\"],[0.2222222222222222,\"#7201a8\"],[0.3333333333333333,\"#9c179e\"],[0.4444444444444444,\"#bd3786\"],[0.5555555555555556,\"#d8576b\"],[0.6666666666666666,\"#ed7953\"],[0.7777777777777778,\"#fb9f3a\"],[0.8888888888888888,\"#fdca26\"],[1.0,\"#f0f921\"]],\"type\":\"surface\"}],\"table\":[{\"cells\":{\"fill\":{\"color\":\"#EBF0F8\"},\"line\":{\"color\":\"white\"}},\"header\":{\"fill\":{\"color\":\"#C8D4E3\"},\"line\":{\"color\":\"white\"}},\"type\":\"table\"}]},\"layout\":{\"annotationdefaults\":{\"arrowcolor\":\"#2a3f5f\",\"arrowhead\":0,\"arrowwidth\":1},\"autotypenumbers\":\"strict\",\"coloraxis\":{\"colorbar\":{\"outlinewidth\":0,\"ticks\":\"\"}},\"colorscale\":{\"diverging\":[[0,\"#8e0152\"],[0.1,\"#c51b7d\"],[0.2,\"#de77ae\"],[0.3,\"#f1b6da\"],[0.4,\"#fde0ef\"],[0.5,\"#f7f7f7\"],[0.6,\"#e6f5d0\"],[0.7,\"#b8e186\"],[0.8,\"#7fbc41\"],[0.9,\"#4d9221\"],[1,\"#276419\"]],\"sequential\":[[0.0,\"#0d0887\"],[0.1111111111111111,\"#46039f\"],[0.2222222222222222,\"#7201a8\"],[0.3333333333333333,\"#9c179e\"],[0.4444444444444444,\"#bd3786\"],[0.5555555555555556,\"#d8576b\"],[0.6666666666666666,\"#ed7953\"],[0.7777777777777778,\"#fb9f3a\"],[0.8888888888888888,\"#fdca26\"],[1.0,\"#f0f921\"]],\"sequentialminus\":[[0.0,\"#0d0887\"],[0.1111111111111111,\"#46039f\"],[0.2222222222222222,\"#7201a8\"],[0.3333333333333333,\"#9c179e\"],[0.4444444444444444,\"#bd3786\"],[0.5555555555555556,\"#d8576b\"],[0.6666666666666666,\"#ed7953\"],[0.7777777777777778,\"#fb9f3a\"],[0.8888888888888888,\"#fdca26\"],[1.0,\"#f0f921\"]]},\"colorway\":[\"#636efa\",\"#EF553B\",\"#00cc96\",\"#ab63fa\",\"#FFA15A\",\"#19d3f3\",\"#FF6692\",\"#B6E880\",\"#FF97FF\",\"#FECB52\"],\"font\":{\"color\":\"#2a3f5f\"},\"geo\":{\"bgcolor\":\"white\",\"lakecolor\":\"white\",\"landcolor\":\"#E5ECF6\",\"showlakes\":true,\"showland\":true,\"subunitcolor\":\"white\"},\"hoverlabel\":{\"align\":\"left\"},\"hovermode\":\"closest\",\"mapbox\":{\"style\":\"light\"},\"paper_bgcolor\":\"white\",\"plot_bgcolor\":\"#E5ECF6\",\"polar\":{\"angularaxis\":{\"gridcolor\":\"white\",\"linecolor\":\"white\",\"ticks\":\"\"},\"bgcolor\":\"#E5ECF6\",\"radialaxis\":{\"gridcolor\":\"white\",\"linecolor\":\"white\",\"ticks\":\"\"}},\"scene\":{\"xaxis\":{\"backgroundcolor\":\"#E5ECF6\",\"gridcolor\":\"white\",\"gridwidth\":2,\"linecolor\":\"white\",\"showbackground\":true,\"ticks\":\"\",\"zerolinecolor\":\"white\"},\"yaxis\":{\"backgroundcolor\":\"#E5ECF6\",\"gridcolor\":\"white\",\"gridwidth\":2,\"linecolor\":\"white\",\"showbackground\":true,\"ticks\":\"\",\"zerolinecolor\":\"white\"},\"zaxis\":{\"backgroundcolor\":\"#E5ECF6\",\"gridcolor\":\"white\",\"gridwidth\":2,\"linecolor\":\"white\",\"showbackground\":true,\"ticks\":\"\",\"zerolinecolor\":\"white\"}},\"shapedefaults\":{\"line\":{\"color\":\"#2a3f5f\"}},\"ternary\":{\"aaxis\":{\"gridcolor\":\"white\",\"linecolor\":\"white\",\"ticks\":\"\"},\"baxis\":{\"gridcolor\":\"white\",\"linecolor\":\"white\",\"ticks\":\"\"},\"bgcolor\":\"#E5ECF6\",\"caxis\":{\"gridcolor\":\"white\",\"linecolor\":\"white\",\"ticks\":\"\"}},\"title\":{\"x\":0.05},\"xaxis\":{\"automargin\":true,\"gridcolor\":\"white\",\"linecolor\":\"white\",\"ticks\":\"\",\"title\":{\"standoff\":15},\"zerolinecolor\":\"white\",\"zerolinewidth\":2},\"yaxis\":{\"automargin\":true,\"gridcolor\":\"white\",\"linecolor\":\"white\",\"ticks\":\"\",\"title\":{\"standoff\":15},\"zerolinecolor\":\"white\",\"zerolinewidth\":2}}},\"autosize\":false,\"width\":1000,\"height\":250},                        {\"responsive\": true}                    ).then(function(){\n",
       "                            \n",
       "var gd = document.getElementById('240577bb-5a3f-4d76-ba86-269eb140dd91');\n",
       "var x = new MutationObserver(function (mutations, observer) {{\n",
       "        var display = window.getComputedStyle(gd).display;\n",
       "        if (!display || display === 'none') {{\n",
       "            console.log([gd, 'removed!']);\n",
       "            Plotly.purge(gd);\n",
       "            observer.disconnect();\n",
       "        }}\n",
       "}});\n",
       "\n",
       "// Listen for the removal of the full notebook cells\n",
       "var notebookContainer = gd.closest('#notebook-container');\n",
       "if (notebookContainer) {{\n",
       "    x.observe(notebookContainer, {childList: true});\n",
       "}}\n",
       "\n",
       "// Listen for the clearing of the current output cell\n",
       "var outputEl = gd.closest('.output');\n",
       "if (outputEl) {{\n",
       "    x.observe(outputEl, {childList: true});\n",
       "}}\n",
       "\n",
       "                        })                };                });            </script>        </div>"
      ]
     },
     "metadata": {},
     "output_type": "display_data"
    }
   ],
   "source": [
    "income = df['Total price (unit price x product quantity)'].sum()\n",
    "n_order = len(df['Order Id'].unique())\n",
    "avg_order_value = income/n_order\n",
    "\n",
    "fig = go.FigureWidget()\n",
    "\n",
    "font_size = 65\n",
    "\n",
    "fig.add_trace(go.Indicator(\n",
    "    mode = \"number\",\n",
    "    value = income,\n",
    "    number_font_size = font_size,\n",
    "    title = {\"text\": \"Total Sales\"},\n",
    "    domain = {'x': [0, 1/3], 'y': [0, 1]},))\n",
    "\n",
    "fig.add_trace(go.Indicator(\n",
    "    mode = \"number\",\n",
    "    value = n_order,\n",
    "    number_font_size = font_size,\n",
    "    title = {\"text\": \"Total N. Order\"},\n",
    "    domain = {'x': [1/3, 2/3], 'y': [0, 1]}))\n",
    "\n",
    "fig.add_trace(go.Indicator(\n",
    "    mode = \"number\",\n",
    "    value = avg_order_value,\n",
    "    number_font_size = font_size,\n",
    "    title = {\"text\": \"Average Order Value\"},\n",
    "    domain = {'x': [2/3, 1], 'y': [0, 1]}))\n",
    "\n",
    "fig.update_layout(\n",
    "    autosize=False,\n",
    "    width=1000,\n",
    "    height=150,\n",
    ")\n",
    "\n",
    "fig.show()"
   ]
  },
  {
   "cell_type": "markdown",
   "id": "6ef0dc58",
   "metadata": {},
   "source": [
    "The violin plot is showing the distribution of order values. As we can see, the majority of orders are concentrated between 0 and 150 in value (boxplot). And more particularly, the highest orders can be considered outlier in the statistical model (3 times std value)"
   ]
  },
  {
   "cell_type": "code",
   "execution_count": 10,
   "id": "8afc1cc0",
   "metadata": {},
   "outputs": [
    {
     "data": {
      "image/png": "[encoded data removed]",
      "text/plain": [
       "<Figure size 1000x300 with 1 Axes>"
      ]
     },
     "metadata": {},
     "output_type": "display_data"
    }
   ],
   "source": [
    "byOrder = df[['Order Id','Total price (unit price x product quantity)']].groupby('Order Id').sum()\n",
    "\n",
    "plt.figure(figsize=(10, 3))\n",
    "plt.annotate('150', xy=(150, 0), xytext=(400, 0.2),\n",
    "            arrowprops=dict(facecolor='black', shrink=0.05),\n",
    "            )\n",
    "sns.violinplot(x=byOrder['Total price (unit price x product quantity)'], cut = 0);"
   ]
  },
  {
   "cell_type": "markdown",
   "id": "31d93f93",
   "metadata": {},
   "source": [
    "When these outliers are ignored, we can have a better focus on the average orders\n",
    "Non-standard orders could be studied separately."
   ]
  },
  {
   "cell_type": "code",
   "execution_count": 11,
   "id": "5d9c177c",
   "metadata": {},
   "outputs": [
    {
     "data": {
      "image/png": "[encoded data removed]",
      "text/plain": [
       "<Figure size 1000x300 with 1 Axes>"
      ]
     },
     "metadata": {},
     "output_type": "display_data"
    }
   ],
   "source": [
    "byOrder_no_outlier = byOrder[(np.abs(stats.zscore(byOrder)) < 3).all(axis=1)]\n",
    "plt.figure(figsize=(10, 3))\n",
    "sns.violinplot(x=byOrder_no_outlier['Total price (unit price x product quantity)'], cut = 0);"
   ]
  },
  {
   "cell_type": "code",
   "execution_count": 28,
   "id": "733cbfde",
   "metadata": {},
   "outputs": [
    {
     "data": {
      "text/plain": [
       "{'Mean': 110.418420263593, 'Median': 82.56, 'Mode': 1.0}"
      ]
     },
     "execution_count": 28,
     "metadata": {},
     "output_type": "execute_result"
    }
   ],
   "source": [
    "CentralTendacy = {}\n",
    "CentralTendacy['Mean'] = byOrder_no_outlier['Total price (unit price x product quantity)'].mean()\n",
    "CentralTendacy['Median'] = byOrder_no_outlier['Total price (unit price x product quantity)'].median()\n",
    "CentralTendacy['Mode'] = byOrder_no_outlier['Total price (unit price x product quantity)'].mode()[0]\n",
    "\n",
    "# CentralTendacy"
   ]
  },
  {
   "cell_type": "markdown",
   "id": "e3d62073",
   "metadata": {},
   "source": [
    "Here are the indicators with the value adjusted to the \"average\" commands"
   ]
  },
  {
   "cell_type": "code",
   "execution_count": 12,
   "id": "52f80223",
   "metadata": {},
   "outputs": [
    {
     "data": {
      "application/vnd.plotly.v1+json": {
       "config": {
        "plotlyServerURL": "https://plot.ly"
       },
       "data": [
        {
         "domain": {
          "x": [
           0,
           0.3333333333333333
          ],
          "y": [
           0,
           1
          ]
         },
         "mode": "number",
         "number": {
          "font": {
           "size": 65
          }
         },
         "title": {
          "text": "Adjusted Total Sales"
         },
         "type": "indicator",
         "uid": "093a6ef6-c815-4c4d-824d-0995047715a8",
         "value": 23642571.310000006
        },
        {
         "domain": {
          "x": [
           0.3333333333333333,
           0.6666666666666666
          ],
          "y": [
           0,
           1
          ]
         },
         "mode": "number",
         "number": {
          "font": {
           "size": 65
          }
         },
         "title": {
          "text": "Adjusted Total N. Order"
         },
         "type": "indicator",
         "uid": "e183475b-8aa8-4c5a-9e86-38315d581a4e",
         "value": 214118
        },
        {
         "domain": {
          "x": [
           0.6666666666666666,
           1
          ],
          "y": [
           0,
           1
          ]
         },
         "mode": "number",
         "number": {
          "font": {
           "size": 65
          }
         },
         "title": {
          "text": "Adjusted Average Order Value"
         },
         "type": "indicator",
         "uid": "c0b2a44d-9032-4a8f-bbe0-bfce864044f1",
         "value": 110.418420263593
        }
       ],
       "layout": {
        "autosize": false,
        "height": 250,
        "template": {
         "data": {
          "bar": [
           {
            "error_x": {
             "color": "#2a3f5f"
            },
            "error_y": {
             "color": "#2a3f5f"
            },
            "marker": {
             "line": {
              "color": "#E5ECF6",
              "width": 0.5
             },
             "pattern": {
              "fillmode": "overlay",
              "size": 10,
              "solidity": 0.2
             }
            },
            "type": "bar"
           }
          ],
          "barpolar": [
           {
            "marker": {
             "line": {
              "color": "#E5ECF6",
              "width": 0.5
             },
             "pattern": {
              "fillmode": "overlay",
              "size": 10,
              "solidity": 0.2
             }
            },
            "type": "barpolar"
           }
          ],
          "carpet": [
           {
            "aaxis": {
             "endlinecolor": "#2a3f5f",
             "gridcolor": "white",
             "linecolor": "white",
             "minorgridcolor": "white",
             "startlinecolor": "#2a3f5f"
            },
            "baxis": {
             "endlinecolor": "#2a3f5f",
             "gridcolor": "white",
             "linecolor": "white",
             "minorgridcolor": "white",
             "startlinecolor": "#2a3f5f"
            },
            "type": "carpet"
           }
          ],
          "choropleth": [
           {
            "colorbar": {
             "outlinewidth": 0,
             "ticks": ""
            },
            "type": "choropleth"
           }
          ],
          "contour": [
           {
            "colorbar": {
             "outlinewidth": 0,
             "ticks": ""
            },
            "colorscale": [
             [
              0,
              "#0d0887"
             ],
             [
              0.1111111111111111,
              "#46039f"
             ],
             [
              0.2222222222222222,
              "#7201a8"
             ],
             [
              0.3333333333333333,
              "#9c179e"
             ],
             [
              0.4444444444444444,
              "#bd3786"
             ],
             [
              0.5555555555555556,
              "#d8576b"
             ],
             [
              0.6666666666666666,
              "#ed7953"
             ],
             [
              0.7777777777777778,
              "#fb9f3a"
             ],
             [
              0.8888888888888888,
              "#fdca26"
             ],
             [
              1,
              "#f0f921"
             ]
            ],
            "type": "contour"
           }
          ],
          "contourcarpet": [
           {
            "colorbar": {
             "outlinewidth": 0,
             "ticks": ""
            },
            "type": "contourcarpet"
           }
          ],
          "heatmap": [
           {
            "colorbar": {
             "outlinewidth": 0,
             "ticks": ""
            },
            "colorscale": [
             [
              0,
              "#0d0887"
             ],
             [
              0.1111111111111111,
              "#46039f"
             ],
             [
              0.2222222222222222,
              "#7201a8"
             ],
             [
              0.3333333333333333,
              "#9c179e"
             ],
             [
              0.4444444444444444,
              "#bd3786"
             ],
             [
              0.5555555555555556,
              "#d8576b"
             ],
             [
              0.6666666666666666,
              "#ed7953"
             ],
             [
              0.7777777777777778,
              "#fb9f3a"
             ],
             [
              0.8888888888888888,
              "#fdca26"
             ],
             [
              1,
              "#f0f921"
             ]
            ],
            "type": "heatmap"
           }
          ],
          "heatmapgl": [
           {
            "colorbar": {
             "outlinewidth": 0,
             "ticks": ""
            },
            "colorscale": [
             [
              0,
              "#0d0887"
             ],
             [
              0.1111111111111111,
              "#46039f"
             ],
             [
              0.2222222222222222,
              "#7201a8"
             ],
             [
              0.3333333333333333,
              "#9c179e"
             ],
             [
              0.4444444444444444,
              "#bd3786"
             ],
             [
              0.5555555555555556,
              "#d8576b"
             ],
             [
              0.6666666666666666,
              "#ed7953"
             ],
             [
              0.7777777777777778,
              "#fb9f3a"
             ],
             [
              0.8888888888888888,
              "#fdca26"
             ],
             [
              1,
              "#f0f921"
             ]
            ],
            "type": "heatmapgl"
           }
          ],
          "histogram": [
           {
            "marker": {
             "pattern": {
              "fillmode": "overlay",
              "size": 10,
              "solidity": 0.2
             }
            },
            "type": "histogram"
           }
          ],
          "histogram2d": [
           {
            "colorbar": {
             "outlinewidth": 0,
             "ticks": ""
            },
            "colorscale": [
             [
              0,
              "#0d0887"
             ],
             [
              0.1111111111111111,
              "#46039f"
             ],
             [
              0.2222222222222222,
              "#7201a8"
             ],
             [
              0.3333333333333333,
              "#9c179e"
             ],
             [
              0.4444444444444444,
              "#bd3786"
             ],
             [
              0.5555555555555556,
              "#d8576b"
             ],
             [
              0.6666666666666666,
              "#ed7953"
             ],
             [
              0.7777777777777778,
              "#fb9f3a"
             ],
             [
              0.8888888888888888,
              "#fdca26"
             ],
             [
              1,
              "#f0f921"
             ]
            ],
            "type": "histogram2d"
           }
          ],
          "histogram2dcontour": [
           {
            "colorbar": {
             "outlinewidth": 0,
             "ticks": ""
            },
            "colorscale": [
             [
              0,
              "#0d0887"
             ],
             [
              0.1111111111111111,
              "#46039f"
             ],
             [
              0.2222222222222222,
              "#7201a8"
             ],
             [
              0.3333333333333333,
              "#9c179e"
             ],
             [
              0.4444444444444444,
              "#bd3786"
             ],
             [
              0.5555555555555556,
              "#d8576b"
             ],
             [
              0.6666666666666666,
              "#ed7953"
             ],
             [
              0.7777777777777778,
              "#fb9f3a"
             ],
             [
              0.8888888888888888,
              "#fdca26"
             ],
             [
              1,
              "#f0f921"
             ]
            ],
            "type": "histogram2dcontour"
           }
          ],
          "mesh3d": [
           {
            "colorbar": {
             "outlinewidth": 0,
             "ticks": ""
            },
            "type": "mesh3d"
           }
          ],
          "parcoords": [
           {
            "line": {
             "colorbar": {
              "outlinewidth": 0,
              "ticks": ""
             }
            },
            "type": "parcoords"
           }
          ],
          "pie": [
           {
            "automargin": true,
            "type": "pie"
           }
          ],
          "scatter": [
           {
            "fillpattern": {
             "fillmode": "overlay",
             "size": 10,
             "solidity": 0.2
            },
            "type": "scatter"
           }
          ],
          "scatter3d": [
           {
            "line": {
             "colorbar": {
              "outlinewidth": 0,
              "ticks": ""
             }
            },
            "marker": {
             "colorbar": {
              "outlinewidth": 0,
              "ticks": ""
             }
            },
            "type": "scatter3d"
           }
          ],
          "scattercarpet": [
           {
            "marker": {
             "colorbar": {
              "outlinewidth": 0,
              "ticks": ""
             }
            },
            "type": "scattercarpet"
           }
          ],
          "scattergeo": [
           {
            "marker": {
             "colorbar": {
              "outlinewidth": 0,
              "ticks": ""
             }
            },
            "type": "scattergeo"
           }
          ],
          "scattergl": [
           {
            "marker": {
             "colorbar": {
              "outlinewidth": 0,
              "ticks": ""
             }
            },
            "type": "scattergl"
           }
          ],
          "scattermapbox": [
           {
            "marker": {
             "colorbar": {
              "outlinewidth": 0,
              "ticks": ""
             }
            },
            "type": "scattermapbox"
           }
          ],
          "scatterpolar": [
           {
            "marker": {
             "colorbar": {
              "outlinewidth": 0,
              "ticks": ""
             }
            },
            "type": "scatterpolar"
           }
          ],
          "scatterpolargl": [
           {
            "marker": {
             "colorbar": {
              "outlinewidth": 0,
              "ticks": ""
             }
            },
            "type": "scatterpolargl"
           }
          ],
          "scatterternary": [
           {
            "marker": {
             "colorbar": {
              "outlinewidth": 0,
              "ticks": ""
             }
            },
            "type": "scatterternary"
           }
          ],
          "surface": [
           {
            "colorbar": {
             "outlinewidth": 0,
             "ticks": ""
            },
            "colorscale": [
             [
              0,
              "#0d0887"
             ],
             [
              0.1111111111111111,
              "#46039f"
             ],
             [
              0.2222222222222222,
              "#7201a8"
             ],
             [
              0.3333333333333333,
              "#9c179e"
             ],
             [
              0.4444444444444444,
              "#bd3786"
             ],
             [
              0.5555555555555556,
              "#d8576b"
             ],
             [
              0.6666666666666666,
              "#ed7953"
             ],
             [
              0.7777777777777778,
              "#fb9f3a"
             ],
             [
              0.8888888888888888,
              "#fdca26"
             ],
             [
              1,
              "#f0f921"
             ]
            ],
            "type": "surface"
           }
          ],
          "table": [
           {
            "cells": {
             "fill": {
              "color": "#EBF0F8"
             },
             "line": {
              "color": "white"
             }
            },
            "header": {
             "fill": {
              "color": "#C8D4E3"
             },
             "line": {
              "color": "white"
             }
            },
            "type": "table"
           }
          ]
         },
         "layout": {
          "annotationdefaults": {
           "arrowcolor": "#2a3f5f",
           "arrowhead": 0,
           "arrowwidth": 1
          },
          "autotypenumbers": "strict",
          "coloraxis": {
           "colorbar": {
            "outlinewidth": 0,
            "ticks": ""
           }
          },
          "colorscale": {
           "diverging": [
            [
             0,
             "#8e0152"
            ],
            [
             0.1,
             "#c51b7d"
            ],
            [
             0.2,
             "#de77ae"
            ],
            [
             0.3,
             "#f1b6da"
            ],
            [
             0.4,
             "#fde0ef"
            ],
            [
             0.5,
             "#f7f7f7"
            ],
            [
             0.6,
             "#e6f5d0"
            ],
            [
             0.7,
             "#b8e186"
            ],
            [
             0.8,
             "#7fbc41"
            ],
            [
             0.9,
             "#4d9221"
            ],
            [
             1,
             "#276419"
            ]
           ],
           "sequential": [
            [
             0,
             "#0d0887"
            ],
            [
             0.1111111111111111,
             "#46039f"
            ],
            [
             0.2222222222222222,
             "#7201a8"
            ],
            [
             0.3333333333333333,
             "#9c179e"
            ],
            [
             0.4444444444444444,
             "#bd3786"
            ],
            [
             0.5555555555555556,
             "#d8576b"
            ],
            [
             0.6666666666666666,
             "#ed7953"
            ],
            [
             0.7777777777777778,
             "#fb9f3a"
            ],
            [
             0.8888888888888888,
             "#fdca26"
            ],
            [
             1,
             "#f0f921"
            ]
           ],
           "sequentialminus": [
            [
             0,
             "#0d0887"
            ],
            [
             0.1111111111111111,
             "#46039f"
            ],
            [
             0.2222222222222222,
             "#7201a8"
            ],
            [
             0.3333333333333333,
             "#9c179e"
            ],
            [
             0.4444444444444444,
             "#bd3786"
            ],
            [
             0.5555555555555556,
             "#d8576b"
            ],
            [
             0.6666666666666666,
             "#ed7953"
            ],
            [
             0.7777777777777778,
             "#fb9f3a"
            ],
            [
             0.8888888888888888,
             "#fdca26"
            ],
            [
             1,
             "#f0f921"
            ]
           ]
          },
          "colorway": [
           "#636efa",
           "#EF553B",
           "#00cc96",
           "#ab63fa",
           "#FFA15A",
           "#19d3f3",
           "#FF6692",
           "#B6E880",
           "#FF97FF",
           "#FECB52"
          ],
          "font": {
           "color": "#2a3f5f"
          },
          "geo": {
           "bgcolor": "white",
           "lakecolor": "white",
           "landcolor": "#E5ECF6",
           "showlakes": true,
           "showland": true,
           "subunitcolor": "white"
          },
          "hoverlabel": {
           "align": "left"
          },
          "hovermode": "closest",
          "mapbox": {
           "style": "light"
          },
          "paper_bgcolor": "white",
          "plot_bgcolor": "#E5ECF6",
          "polar": {
           "angularaxis": {
            "gridcolor": "white",
            "linecolor": "white",
            "ticks": ""
           },
           "bgcolor": "#E5ECF6",
           "radialaxis": {
            "gridcolor": "white",
            "linecolor": "white",
            "ticks": ""
           }
          },
          "scene": {
           "xaxis": {
            "backgroundcolor": "#E5ECF6",
            "gridcolor": "white",
            "gridwidth": 2,
            "linecolor": "white",
            "showbackground": true,
            "ticks": "",
            "zerolinecolor": "white"
           },
           "yaxis": {
            "backgroundcolor": "#E5ECF6",
            "gridcolor": "white",
            "gridwidth": 2,
            "linecolor": "white",
            "showbackground": true,
            "ticks": "",
            "zerolinecolor": "white"
           },
           "zaxis": {
            "backgroundcolor": "#E5ECF6",
            "gridcolor": "white",
            "gridwidth": 2,
            "linecolor": "white",
            "showbackground": true,
            "ticks": "",
            "zerolinecolor": "white"
           }
          },
          "shapedefaults": {
           "line": {
            "color": "#2a3f5f"
           }
          },
          "ternary": {
           "aaxis": {
            "gridcolor": "white",
            "linecolor": "white",
            "ticks": ""
           },
           "baxis": {
            "gridcolor": "white",
            "linecolor": "white",
            "ticks": ""
           },
           "bgcolor": "#E5ECF6",
           "caxis": {
            "gridcolor": "white",
            "linecolor": "white",
            "ticks": ""
           }
          },
          "title": {
           "x": 0.05
          },
          "xaxis": {
           "automargin": true,
           "gridcolor": "white",
           "linecolor": "white",
           "ticks": "",
           "title": {
            "standoff": 15
           },
           "zerolinecolor": "white",
           "zerolinewidth": 2
          },
          "yaxis": {
           "automargin": true,
           "gridcolor": "white",
           "linecolor": "white",
           "ticks": "",
           "title": {
            "standoff": 15
           },
           "zerolinecolor": "white",
           "zerolinewidth": 2
          }
         }
        },
        "width": 1000
       }
      },
      "text/html": [
       "<div>                            <div id=\"99f7115a-03e6-4930-923a-0e1e279e96e5\" class=\"plotly-graph-div\" style=\"height:250px; width:1000px;\"></div>            <script type=\"text/javascript\">                require([\"plotly\"], function(Plotly) {                    window.PLOTLYENV=window.PLOTLYENV || {};                                    if (document.getElementById(\"99f7115a-03e6-4930-923a-0e1e279e96e5\")) {                    Plotly.newPlot(                        \"99f7115a-03e6-4930-923a-0e1e279e96e5\",                        [{\"domain\":{\"x\":[0,0.3333333333333333],\"y\":[0,1]},\"mode\":\"number\",\"number\":{\"font\":{\"size\":65}},\"title\":{\"text\":\"Adjusted Total Sales\"},\"value\":23642571.310000006,\"type\":\"indicator\",\"uid\":\"093a6ef6-c815-4c4d-824d-0995047715a8\"},{\"domain\":{\"x\":[0.3333333333333333,0.6666666666666666],\"y\":[0,1]},\"mode\":\"number\",\"number\":{\"font\":{\"size\":65}},\"title\":{\"text\":\"Adjusted Total N. Order\"},\"value\":214118,\"type\":\"indicator\",\"uid\":\"e183475b-8aa8-4c5a-9e86-38315d581a4e\"},{\"domain\":{\"x\":[0.6666666666666666,1],\"y\":[0,1]},\"mode\":\"number\",\"number\":{\"font\":{\"size\":65}},\"title\":{\"text\":\"Adjusted Average Order Value\"},\"value\":110.418420263593,\"type\":\"indicator\",\"uid\":\"c0b2a44d-9032-4a8f-bbe0-bfce864044f1\"}],                        {\"template\":{\"data\":{\"barpolar\":[{\"marker\":{\"line\":{\"color\":\"#E5ECF6\",\"width\":0.5},\"pattern\":{\"fillmode\":\"overlay\",\"size\":10,\"solidity\":0.2}},\"type\":\"barpolar\"}],\"bar\":[{\"error_x\":{\"color\":\"#2a3f5f\"},\"error_y\":{\"color\":\"#2a3f5f\"},\"marker\":{\"line\":{\"color\":\"#E5ECF6\",\"width\":0.5},\"pattern\":{\"fillmode\":\"overlay\",\"size\":10,\"solidity\":0.2}},\"type\":\"bar\"}],\"carpet\":[{\"aaxis\":{\"endlinecolor\":\"#2a3f5f\",\"gridcolor\":\"white\",\"linecolor\":\"white\",\"minorgridcolor\":\"white\",\"startlinecolor\":\"#2a3f5f\"},\"baxis\":{\"endlinecolor\":\"#2a3f5f\",\"gridcolor\":\"white\",\"linecolor\":\"white\",\"minorgridcolor\":\"white\",\"startlinecolor\":\"#2a3f5f\"},\"type\":\"carpet\"}],\"choropleth\":[{\"colorbar\":{\"outlinewidth\":0,\"ticks\":\"\"},\"type\":\"choropleth\"}],\"contourcarpet\":[{\"colorbar\":{\"outlinewidth\":0,\"ticks\":\"\"},\"type\":\"contourcarpet\"}],\"contour\":[{\"colorbar\":{\"outlinewidth\":0,\"ticks\":\"\"},\"colorscale\":[[0.0,\"#0d0887\"],[0.1111111111111111,\"#46039f\"],[0.2222222222222222,\"#7201a8\"],[0.3333333333333333,\"#9c179e\"],[0.4444444444444444,\"#bd3786\"],[0.5555555555555556,\"#d8576b\"],[0.6666666666666666,\"#ed7953\"],[0.7777777777777778,\"#fb9f3a\"],[0.8888888888888888,\"#fdca26\"],[1.0,\"#f0f921\"]],\"type\":\"contour\"}],\"heatmapgl\":[{\"colorbar\":{\"outlinewidth\":0,\"ticks\":\"\"},\"colorscale\":[[0.0,\"#0d0887\"],[0.1111111111111111,\"#46039f\"],[0.2222222222222222,\"#7201a8\"],[0.3333333333333333,\"#9c179e\"],[0.4444444444444444,\"#bd3786\"],[0.5555555555555556,\"#d8576b\"],[0.6666666666666666,\"#ed7953\"],[0.7777777777777778,\"#fb9f3a\"],[0.8888888888888888,\"#fdca26\"],[1.0,\"#f0f921\"]],\"type\":\"heatmapgl\"}],\"heatmap\":[{\"colorbar\":{\"outlinewidth\":0,\"ticks\":\"\"},\"colorscale\":[[0.0,\"#0d0887\"],[0.1111111111111111,\"#46039f\"],[0.2222222222222222,\"#7201a8\"],[0.3333333333333333,\"#9c179e\"],[0.4444444444444444,\"#bd3786\"],[0.5555555555555556,\"#d8576b\"],[0.6666666666666666,\"#ed7953\"],[0.7777777777777778,\"#fb9f3a\"],[0.8888888888888888,\"#fdca26\"],[1.0,\"#f0f921\"]],\"type\":\"heatmap\"}],\"histogram2dcontour\":[{\"colorbar\":{\"outlinewidth\":0,\"ticks\":\"\"},\"colorscale\":[[0.0,\"#0d0887\"],[0.1111111111111111,\"#46039f\"],[0.2222222222222222,\"#7201a8\"],[0.3333333333333333,\"#9c179e\"],[0.4444444444444444,\"#bd3786\"],[0.5555555555555556,\"#d8576b\"],[0.6666666666666666,\"#ed7953\"],[0.7777777777777778,\"#fb9f3a\"],[0.8888888888888888,\"#fdca26\"],[1.0,\"#f0f921\"]],\"type\":\"histogram2dcontour\"}],\"histogram2d\":[{\"colorbar\":{\"outlinewidth\":0,\"ticks\":\"\"},\"colorscale\":[[0.0,\"#0d0887\"],[0.1111111111111111,\"#46039f\"],[0.2222222222222222,\"#7201a8\"],[0.3333333333333333,\"#9c179e\"],[0.4444444444444444,\"#bd3786\"],[0.5555555555555556,\"#d8576b\"],[0.6666666666666666,\"#ed7953\"],[0.7777777777777778,\"#fb9f3a\"],[0.8888888888888888,\"#fdca26\"],[1.0,\"#f0f921\"]],\"type\":\"histogram2d\"}],\"histogram\":[{\"marker\":{\"pattern\":{\"fillmode\":\"overlay\",\"size\":10,\"solidity\":0.2}},\"type\":\"histogram\"}],\"mesh3d\":[{\"colorbar\":{\"outlinewidth\":0,\"ticks\":\"\"},\"type\":\"mesh3d\"}],\"parcoords\":[{\"line\":{\"colorbar\":{\"outlinewidth\":0,\"ticks\":\"\"}},\"type\":\"parcoords\"}],\"pie\":[{\"automargin\":true,\"type\":\"pie\"}],\"scatter3d\":[{\"line\":{\"colorbar\":{\"outlinewidth\":0,\"ticks\":\"\"}},\"marker\":{\"colorbar\":{\"outlinewidth\":0,\"ticks\":\"\"}},\"type\":\"scatter3d\"}],\"scattercarpet\":[{\"marker\":{\"colorbar\":{\"outlinewidth\":0,\"ticks\":\"\"}},\"type\":\"scattercarpet\"}],\"scattergeo\":[{\"marker\":{\"colorbar\":{\"outlinewidth\":0,\"ticks\":\"\"}},\"type\":\"scattergeo\"}],\"scattergl\":[{\"marker\":{\"colorbar\":{\"outlinewidth\":0,\"ticks\":\"\"}},\"type\":\"scattergl\"}],\"scattermapbox\":[{\"marker\":{\"colorbar\":{\"outlinewidth\":0,\"ticks\":\"\"}},\"type\":\"scattermapbox\"}],\"scatterpolargl\":[{\"marker\":{\"colorbar\":{\"outlinewidth\":0,\"ticks\":\"\"}},\"type\":\"scatterpolargl\"}],\"scatterpolar\":[{\"marker\":{\"colorbar\":{\"outlinewidth\":0,\"ticks\":\"\"}},\"type\":\"scatterpolar\"}],\"scatter\":[{\"fillpattern\":{\"fillmode\":\"overlay\",\"size\":10,\"solidity\":0.2},\"type\":\"scatter\"}],\"scatterternary\":[{\"marker\":{\"colorbar\":{\"outlinewidth\":0,\"ticks\":\"\"}},\"type\":\"scatterternary\"}],\"surface\":[{\"colorbar\":{\"outlinewidth\":0,\"ticks\":\"\"},\"colorscale\":[[0.0,\"#0d0887\"],[0.1111111111111111,\"#46039f\"],[0.2222222222222222,\"#7201a8\"],[0.3333333333333333,\"#9c179e\"],[0.4444444444444444,\"#bd3786\"],[0.5555555555555556,\"#d8576b\"],[0.6666666666666666,\"#ed7953\"],[0.7777777777777778,\"#fb9f3a\"],[0.8888888888888888,\"#fdca26\"],[1.0,\"#f0f921\"]],\"type\":\"surface\"}],\"table\":[{\"cells\":{\"fill\":{\"color\":\"#EBF0F8\"},\"line\":{\"color\":\"white\"}},\"header\":{\"fill\":{\"color\":\"#C8D4E3\"},\"line\":{\"color\":\"white\"}},\"type\":\"table\"}]},\"layout\":{\"annotationdefaults\":{\"arrowcolor\":\"#2a3f5f\",\"arrowhead\":0,\"arrowwidth\":1},\"autotypenumbers\":\"strict\",\"coloraxis\":{\"colorbar\":{\"outlinewidth\":0,\"ticks\":\"\"}},\"colorscale\":{\"diverging\":[[0,\"#8e0152\"],[0.1,\"#c51b7d\"],[0.2,\"#de77ae\"],[0.3,\"#f1b6da\"],[0.4,\"#fde0ef\"],[0.5,\"#f7f7f7\"],[0.6,\"#e6f5d0\"],[0.7,\"#b8e186\"],[0.8,\"#7fbc41\"],[0.9,\"#4d9221\"],[1,\"#276419\"]],\"sequential\":[[0.0,\"#0d0887\"],[0.1111111111111111,\"#46039f\"],[0.2222222222222222,\"#7201a8\"],[0.3333333333333333,\"#9c179e\"],[0.4444444444444444,\"#bd3786\"],[0.5555555555555556,\"#d8576b\"],[0.6666666666666666,\"#ed7953\"],[0.7777777777777778,\"#fb9f3a\"],[0.8888888888888888,\"#fdca26\"],[1.0,\"#f0f921\"]],\"sequentialminus\":[[0.0,\"#0d0887\"],[0.1111111111111111,\"#46039f\"],[0.2222222222222222,\"#7201a8\"],[0.3333333333333333,\"#9c179e\"],[0.4444444444444444,\"#bd3786\"],[0.5555555555555556,\"#d8576b\"],[0.6666666666666666,\"#ed7953\"],[0.7777777777777778,\"#fb9f3a\"],[0.8888888888888888,\"#fdca26\"],[1.0,\"#f0f921\"]]},\"colorway\":[\"#636efa\",\"#EF553B\",\"#00cc96\",\"#ab63fa\",\"#FFA15A\",\"#19d3f3\",\"#FF6692\",\"#B6E880\",\"#FF97FF\",\"#FECB52\"],\"font\":{\"color\":\"#2a3f5f\"},\"geo\":{\"bgcolor\":\"white\",\"lakecolor\":\"white\",\"landcolor\":\"#E5ECF6\",\"showlakes\":true,\"showland\":true,\"subunitcolor\":\"white\"},\"hoverlabel\":{\"align\":\"left\"},\"hovermode\":\"closest\",\"mapbox\":{\"style\":\"light\"},\"paper_bgcolor\":\"white\",\"plot_bgcolor\":\"#E5ECF6\",\"polar\":{\"angularaxis\":{\"gridcolor\":\"white\",\"linecolor\":\"white\",\"ticks\":\"\"},\"bgcolor\":\"#E5ECF6\",\"radialaxis\":{\"gridcolor\":\"white\",\"linecolor\":\"white\",\"ticks\":\"\"}},\"scene\":{\"xaxis\":{\"backgroundcolor\":\"#E5ECF6\",\"gridcolor\":\"white\",\"gridwidth\":2,\"linecolor\":\"white\",\"showbackground\":true,\"ticks\":\"\",\"zerolinecolor\":\"white\"},\"yaxis\":{\"backgroundcolor\":\"#E5ECF6\",\"gridcolor\":\"white\",\"gridwidth\":2,\"linecolor\":\"white\",\"showbackground\":true,\"ticks\":\"\",\"zerolinecolor\":\"white\"},\"zaxis\":{\"backgroundcolor\":\"#E5ECF6\",\"gridcolor\":\"white\",\"gridwidth\":2,\"linecolor\":\"white\",\"showbackground\":true,\"ticks\":\"\",\"zerolinecolor\":\"white\"}},\"shapedefaults\":{\"line\":{\"color\":\"#2a3f5f\"}},\"ternary\":{\"aaxis\":{\"gridcolor\":\"white\",\"linecolor\":\"white\",\"ticks\":\"\"},\"baxis\":{\"gridcolor\":\"white\",\"linecolor\":\"white\",\"ticks\":\"\"},\"bgcolor\":\"#E5ECF6\",\"caxis\":{\"gridcolor\":\"white\",\"linecolor\":\"white\",\"ticks\":\"\"}},\"title\":{\"x\":0.05},\"xaxis\":{\"automargin\":true,\"gridcolor\":\"white\",\"linecolor\":\"white\",\"ticks\":\"\",\"title\":{\"standoff\":15},\"zerolinecolor\":\"white\",\"zerolinewidth\":2},\"yaxis\":{\"automargin\":true,\"gridcolor\":\"white\",\"linecolor\":\"white\",\"ticks\":\"\",\"title\":{\"standoff\":15},\"zerolinecolor\":\"white\",\"zerolinewidth\":2}}},\"autosize\":false,\"width\":1000,\"height\":250},                        {\"responsive\": true}                    ).then(function(){\n",
       "                            \n",
       "var gd = document.getElementById('99f7115a-03e6-4930-923a-0e1e279e96e5');\n",
       "var x = new MutationObserver(function (mutations, observer) {{\n",
       "        var display = window.getComputedStyle(gd).display;\n",
       "        if (!display || display === 'none') {{\n",
       "            console.log([gd, 'removed!']);\n",
       "            Plotly.purge(gd);\n",
       "            observer.disconnect();\n",
       "        }}\n",
       "}});\n",
       "\n",
       "// Listen for the removal of the full notebook cells\n",
       "var notebookContainer = gd.closest('#notebook-container');\n",
       "if (notebookContainer) {{\n",
       "    x.observe(notebookContainer, {childList: true});\n",
       "}}\n",
       "\n",
       "// Listen for the clearing of the current output cell\n",
       "var outputEl = gd.closest('.output');\n",
       "if (outputEl) {{\n",
       "    x.observe(outputEl, {childList: true});\n",
       "}}\n",
       "\n",
       "                        })                };                });            </script>        </div>"
      ]
     },
     "metadata": {},
     "output_type": "display_data"
    }
   ],
   "source": [
    "fig = go.FigureWidget()\n",
    "\n",
    "font_size = 65\n",
    "\n",
    "fig.add_trace(go.Indicator(\n",
    "    mode = \"number\",\n",
    "    value = byOrder_no_outlier['Total price (unit price x product quantity)'].sum(),\n",
    "    number_font_size = font_size,\n",
    "    title = {\"text\": \"Adjusted Total Sales\"},\n",
    "    domain = {'x': [0, 1/3], 'y': [0, 1]},))\n",
    "\n",
    "fig.add_trace(go.Indicator(\n",
    "    mode = \"number\",\n",
    "    value = len(byOrder_no_outlier['Total price (unit price x product quantity)']),\n",
    "    number_font_size = font_size,\n",
    "    title = {\"text\": \"Adjusted Total N. Order\"},\n",
    "    domain = {'x': [1/3, 2/3], 'y': [0, 1]}))\n",
    "\n",
    "fig.add_trace(go.Indicator(\n",
    "    mode = \"number\",\n",
    "    value = byOrder_no_outlier['Total price (unit price x product quantity)'].sum()/len(byOrder_no_outlier['Total price (unit price x product quantity)']),\n",
    "    number_font_size = font_size,\n",
    "    title = {\"text\": \"Adjusted Average Order Value\"},\n",
    "    domain = {'x': [2/3, 1], 'y': [0, 1]}))\n",
    "\n",
    "fig.update_layout(\n",
    "    autosize=False,\n",
    "    width=1000,\n",
    "    height=150,\n",
    ")\n",
    "\n",
    "fig.show()"
   ]
  },
  {
   "cell_type": "markdown",
   "id": "c6721fb3",
   "metadata": {},
   "source": [
    "**How to increase AOV in general? It would be possible here to set up a free delivery offer, or a free product for a higher basket amount: a value of 150 for example**\n",
    "\n",
    "When looking at the distribution of the average value per order, 2 categories represent the entire value: wine and spirits.\n",
    "Evenly distributed 49.4% for spirits, 47.8% for wine, i.e. almost 50-50.\n",
    "\n",
    "This is partly explained by the composition of the orders, a spirit is ordered 4 times out of 5 and wine in the same proportions"
   ]
  },
  {
   "cell_type": "code",
   "execution_count": 25,
   "id": "f26c7a6f",
   "metadata": {},
   "outputs": [
    {
     "data": {
      "image/png": "[encoded data removed]",
      "text/plain": [
       "<Figure size 1200x400 with 2 Axes>"
      ]
     },
     "metadata": {},
     "output_type": "display_data"
    }
   ],
   "source": [
    "byCategory = df.groupby('Product categorie').agg({'Order Id' : ['nunique'],\n",
    "                                                  'Total price (unit price x product quantity)' : ['sum']})\n",
    "\n",
    "byCategory['freq_cat_per_order'] = byCategory['Order Id']/n_order\n",
    "byCategory['cat_avg_order_value'] = byCategory['Total price (unit price x product quantity)']/n_order\n",
    "byCategory['relative_cat_avg_order_value'] = 100*byCategory['cat_avg_order_value']/avg_order_value\n",
    "\n",
    "plt.figure(figsize=(12, 4))\n",
    "plt.subplot(121)\n",
    "ax = sns.barplot(data = byCategory, x= byCategory.index, y='relative_cat_avg_order_value', order=byCategory.sort_values(by=['relative_cat_avg_order_value'], ascending=False).index);\n",
    "ax.title.set_text(\"Average Order Value Distribution by category\")\n",
    "plt.xticks(rotation=30)\n",
    "for container in ax.containers:\n",
    "    ax.bar_label(container, fmt='%.1f')\n",
    "    \n",
    "plt.subplot(122)\n",
    "ax = sns.barplot(data = byCategory, x= byCategory.index, y='freq_cat_per_order', order=byCategory.sort_values(by=['freq_cat_per_order'], ascending=False).index);\n",
    "ax.title.set_text(\"Order frequency by category\")\n",
    "plt.xticks(rotation=30)\n",
    "for container in ax.containers:\n",
    "    ax.bar_label(container, fmt='%.2f')\n",
    "    \n",
    "plt.tight_layout()"
   ]
  },
  {
   "cell_type": "markdown",
   "id": "94d687ad",
   "metadata": {},
   "source": [
    "By analyzing more finely, by taking a look at the subcategories, we can see that red wine is our main source of sales.\n",
    "Indeed, one out of two orders includes wine and represents 28% of the average value.\n",
    "\n",
    "**How to increase AOV? We know here that each order concerns either wine or a spirit but next to very few Gourmet, accessories...\n",
    "A recommendation system proposing to complete the basket with Gourmet corresponding to the alcohol or the accessory allowing to open, present the bottle, glasses...**"
   ]
  },
  {
   "cell_type": "code",
   "execution_count": 32,
   "id": "3aa07ba8",
   "metadata": {
    "scrolled": false
   },
   "outputs": [
    {
     "data": {
      "image/png": "[encoded data removed]",
      "text/plain": [
       "<Figure size 1800x1000 with 4 Axes>"
      ]
     },
     "metadata": {},
     "output_type": "display_data"
    }
   ],
   "source": [
    "bySubCategory = df.groupby('Product subcategorie', as_index=False).agg({'Order Id' : ['count'],\n",
    "                                                                        'Product quantity' : ['sum','mean'],\n",
    "                                                                        'Total price (unit price x product quantity)' : ['sum']})\n",
    "\n",
    "bySubCategory.columns = ['_'.join(col) for col in bySubCategory.columns]\n",
    "bySubCategory['freq_cat_per_order'] = bySubCategory['Order Id_count']/n_order\n",
    "# bySubCategory['quant_cat_per_order'] = bySubCategory['Product quantity_sum']/n_order\n",
    "bySubCategory['cat_avg_order_value'] = bySubCategory['Total price (unit price x product quantity)_sum']/n_order\n",
    "bySubCategory['relative_cat_avg_order_value'] = 100*bySubCategory['cat_avg_order_value']/avg_order_value\n",
    "\n",
    "plt.figure(figsize=(18, 10))\n",
    "plt.subplot(221)\n",
    "column = 'relative_cat_avg_order_value'\n",
    "ax = sns.barplot(data = bySubCategory.nlargest(10, column), x='Product subcategorie_', y=column);\n",
    "at = AnchoredText(\n",
    "    \"Average : \"+ str(bySubCategory[column].mean().round(2)), prop=dict(size=15), frameon=True, loc='upper right')\n",
    "at.patch.set_boxstyle(\"round,pad=0.,rounding_size=0.2\")\n",
    "ax.add_artist(at)\n",
    "ax.title.set_text(\"% Average Order Value Distribution by Sub-Category\")\n",
    "for container in ax.containers:\n",
    "    ax.bar_label(container, fmt='%.1f')\n",
    "    \n",
    "plt.subplot(222)\n",
    "column = 'freq_cat_per_order'\n",
    "ax = sns.barplot(data = bySubCategory.nlargest(10, column), x='Product subcategorie_', y=column);\n",
    "at = AnchoredText(\n",
    "    \"Average : \"+ str(bySubCategory[column].mean().round(2)), prop=dict(size=15), frameon=True, loc='upper right')\n",
    "at.patch.set_boxstyle(\"round,pad=0.,rounding_size=0.2\")\n",
    "ax.add_artist(at)\n",
    "ax.title.set_text(\"Order frequency by sub-category\")\n",
    "plt.xticks(rotation=30)\n",
    "for container in ax.containers:\n",
    "    ax.bar_label(container, fmt='%.2f')\n",
    "    \n",
    "plt.subplot(223)\n",
    "column = 'Product quantity_mean'\n",
    "ax = sns.barplot(data = bySubCategory.nlargest(10, 'relative_cat_avg_order_value'), x='Product subcategorie_', y=column);\n",
    "at = AnchoredText(\n",
    "    \"Average : \"+ str(bySubCategory[column].mean().round(2)), prop=dict(size=15), frameon=True, loc='upper center')\n",
    "at.patch.set_boxstyle(\"round,pad=0.,rounding_size=0.2\")\n",
    "ax.add_artist(at)\n",
    "ax.title.set_text(\"Average quantity when ordered by top Average Order Value Distribution Sub-Categories\")\n",
    "plt.xticks(rotation=30)\n",
    "for container in ax.containers:\n",
    "    ax.bar_label(container, fmt='%.2f')\n",
    "\n",
    "plt.subplot(224)\n",
    "column = 'Product quantity_sum'\n",
    "ax = sns.barplot(data = bySubCategory.nlargest(10, column), x='Product subcategorie_', y=column);\n",
    "at = AnchoredText(\n",
    "    \"Average : \"+ str(bySubCategory[column].mean().round(2)), prop=dict(size=15), frameon=True, loc='upper right')\n",
    "at.patch.set_boxstyle(\"round,pad=0.,rounding_size=0.2\")\n",
    "ax.add_artist(at)\n",
    "ax.title.set_text(\"Quantity by sub-category\")\n",
    "for container in ax.containers:\n",
    "    ax.bar_label(container, fmt='%.0f')\n",
    "\n",
    "    \n",
    "plt.tight_layout()"
   ]
  },
  {
   "cell_type": "markdown",
   "id": "2366c35b",
   "metadata": {},
   "source": [
    "# Dependencies\n",
    "\n",
    "When we look at our dependencies on our suppliers, we can see that our 10 largest suppliers in terms of value represent 2 thirds of our sales.\n",
    "Among these suppliers, our 2 most important represent 1 third of our sales. These are suppliers n°92 and n°6.\n",
    "They represent a significant part of our offer, indeed our supplier n°6 represents 12.3% of the referenced products, more than any other supplier.\n",
    "\n",
    "When we compare these values to the average values, we can therefore say that we are heavily dependent on these suppliers n° 92 and n° 6, followed to a lesser extent by suppliers n° 124 and n° 86.\n",
    "Then, we move towards a third group of major suppliers, each representing 5% of our average value.\n",
    "But overall, with an average of 0.38% dependency per supplier, our dependancy on the rest of the suppliers is low."
   ]
  },
  {
   "cell_type": "code",
   "execution_count": 15,
   "id": "36885221",
   "metadata": {},
   "outputs": [],
   "source": [
    "n_unique_product = len(df['Product reference'].unique())\n",
    "\n",
    "bySupplier = df.groupby('Supplier ID', as_index=False).agg({'Product reference':['nunique'],\n",
    "                                         'Product quantity' : ['sum'],\n",
    "                                         'Total price (unit price x product quantity)' : ['sum']})\n",
    "\n",
    "bySupplier['Rel_Supplier_dependency_ByProduct'] = 100*bySupplier['Product reference']/n_unique_product\n",
    "bySupplier['Rel_Supplier_Dependency_BySalesValue'] = 100*bySupplier['Total price (unit price x product quantity)']/income\n",
    "bySupplier['Rel_Supplier_Dependency_ByQuantity'] = 100*bySupplier['Product quantity']/bySupplier['Product quantity'].sum()"
   ]
  },
  {
   "cell_type": "code",
   "execution_count": 16,
   "id": "961111c3",
   "metadata": {},
   "outputs": [
    {
     "data": {
      "image/png": "[encoded data removed]",
      "text/plain": [
       "<Figure size 1200x1000 with 3 Axes>"
      ]
     },
     "metadata": {},
     "output_type": "display_data"
    }
   ],
   "source": [
    "plt.figure(figsize=(12, 10))\n",
    "    \n",
    "plt.subplot(311)\n",
    "column = 'Rel_Supplier_Dependency_BySalesValue'\n",
    "local_data = bySupplier.nlargest(10, column)\n",
    "ax = sns.barplot(data = local_data, x='Supplier ID', y=column, order=local_data.sort_values(by=[column], ascending=False)['Supplier ID']);\n",
    "at = AnchoredText(\n",
    "    \"Average : \"+ str(bySupplier[column].mean().round(2)), prop=dict(size=15), frameon=True, loc='upper right')\n",
    "at.patch.set_boxstyle(\"round,pad=0.,rounding_size=0.2\")\n",
    "ax.add_artist(at)\n",
    "ax.title.set_text(\"% Relative Supplier dependency By Sales Value\")\n",
    "for container in ax.containers:\n",
    "    ax.bar_label(container, fmt='%.1f')\n",
    "    \n",
    "plt.subplot(312)\n",
    "column = 'Rel_Supplier_dependency_ByProduct'\n",
    "local_data = bySupplier.nlargest(10, column)\n",
    "ax = sns.barplot(data = local_data, x='Supplier ID', y=column, order=local_data.sort_values(by=[column], ascending=False)['Supplier ID']);\n",
    "at = AnchoredText(\n",
    "    \"Average : \"+ str(bySupplier[column].mean().round(2)), prop=dict(size=15), frameon=True, loc='upper right')\n",
    "at.patch.set_boxstyle(\"round,pad=0.,rounding_size=0.2\")\n",
    "ax.add_artist(at)\n",
    "ax.title.set_text(\"% Relative Supplier dependency By Product Inventory\")\n",
    "for container in ax.containers:\n",
    "    ax.bar_label(container, fmt='%.1f')\n",
    "    \n",
    "plt.subplot(313)\n",
    "column = 'Rel_Supplier_Dependency_ByQuantity'\n",
    "local_data = bySupplier.nlargest(10, column)\n",
    "ax = sns.barplot(data = local_data, x='Supplier ID', y=column, order=local_data.sort_values(by=[column], ascending=False)['Supplier ID']);\n",
    "at = AnchoredText(\n",
    "    \"Average : \"+ str(bySupplier[column].mean().round(2)), prop=dict(size=15), frameon=True, loc='upper right')\n",
    "at.patch.set_boxstyle(\"round,pad=0.,rounding_size=0.2\")\n",
    "ax.add_artist(at)\n",
    "ax.title.set_text(\"% Relative Supplier dependency By Quantity\")\n",
    "for container in ax.containers:\n",
    "    ax.bar_label(container, fmt='%.1f')\n",
    "    \n",
    "plt.tight_layout()"
   ]
  },
  {
   "cell_type": "markdown",
   "id": "adc05d8f",
   "metadata": {},
   "source": [
    "## Geographic dependency\n",
    "\n",
    "The map above allows us to highlight our supply dependencies by country. With 74% of our sales value, Spain is the country to follow to ensure our supply chain."
   ]
  },
  {
   "cell_type": "code",
   "execution_count": 17,
   "id": "48ea6b76",
   "metadata": {},
   "outputs": [],
   "source": [
    "n_unique_product = len(df['Product reference'].unique())\n",
    "\n",
    "byCountry = df.groupby('Supplier country', as_index=False).agg({'Product reference':['nunique'],\n",
    "                                         'Product quantity' : ['sum'],\n",
    "                                         'Total price (unit price x product quantity)' : ['sum']})\n",
    "\n",
    "byCountry['Rel_Country_dependency_ByProduct'] = 100*byCountry['Product reference']/n_unique_product\n",
    "byCountry['Rel_Country_Dependency_BySalesValue'] = 100*byCountry['Total price (unit price x product quantity)']/income\n",
    "byCountry['Rel_Country_Dependency_ByQuantity'] = 100*byCountry['Product quantity']/bySupplier['Product quantity'].sum()"
   ]
  },
  {
   "cell_type": "code",
   "execution_count": 18,
   "id": "e51eafc3",
   "metadata": {},
   "outputs": [
    {
     "data": {
      "application/vnd.plotly.v1+json": {
       "config": {
        "plotlyServerURL": "https://plot.ly"
       },
       "data": [
        {
         "colorbar": {
          "title": {
           "text": "Rel_Country_Dependency_BySalesValue"
          }
         },
         "colorscale": [
          [
           0,
           "rgb(255,247,236)"
          ],
          [
           0.125,
           "rgb(254,232,200)"
          ],
          [
           0.25,
           "rgb(253,212,158)"
          ],
          [
           0.375,
           "rgb(253,187,132)"
          ],
          [
           0.5,
           "rgb(252,141,89)"
          ],
          [
           0.625,
           "rgb(239,101,72)"
          ],
          [
           0.75,
           "rgb(215,48,31)"
          ],
          [
           0.875,
           "rgb(179,0,0)"
          ],
          [
           1,
           "rgb(127,0,0)"
          ]
         ],
         "locationmode": "country names",
         "locations": [
          "Belgium",
          "France",
          "Germany",
          "Greece",
          "Italy",
          "Luxembourg",
          "Netherlands",
          "Portugal",
          "Serbia",
          "Spain",
          "United Kingdom"
         ],
         "text": [
          "Belgium",
          "France",
          "Germany",
          "Greece",
          "Italy",
          "Luxembourg",
          "Netherlands",
          "Portugal",
          "Serbia",
          "Spain",
          "United Kingdom"
         ],
         "type": "choropleth",
         "uid": "e6451637-ad46-4a16-9026-2e4dc223b7e0",
         "z": [
          0.13444329154412335,
          5.422689182483431,
          8.40846719852226,
          0.009749510912199845,
          3.469945323022477,
          0.09484969854912098,
          2.609212525910178,
          3.903137759250993,
          0.004905296448212897,
          74.37662419522698,
          1.5659760181300422
         ]
        }
       ],
       "layout": {
        "autosize": false,
        "geo": {
         "projection": {
          "type": "natural earth"
         },
         "scope": "europe",
         "showframe": false
        },
        "height": 500,
        "template": {
         "data": {
          "bar": [
           {
            "error_x": {
             "color": "#2a3f5f"
            },
            "error_y": {
             "color": "#2a3f5f"
            },
            "marker": {
             "line": {
              "color": "#E5ECF6",
              "width": 0.5
             },
             "pattern": {
              "fillmode": "overlay",
              "size": 10,
              "solidity": 0.2
             }
            },
            "type": "bar"
           }
          ],
          "barpolar": [
           {
            "marker": {
             "line": {
              "color": "#E5ECF6",
              "width": 0.5
             },
             "pattern": {
              "fillmode": "overlay",
              "size": 10,
              "solidity": 0.2
             }
            },
            "type": "barpolar"
           }
          ],
          "carpet": [
           {
            "aaxis": {
             "endlinecolor": "#2a3f5f",
             "gridcolor": "white",
             "linecolor": "white",
             "minorgridcolor": "white",
             "startlinecolor": "#2a3f5f"
            },
            "baxis": {
             "endlinecolor": "#2a3f5f",
             "gridcolor": "white",
             "linecolor": "white",
             "minorgridcolor": "white",
             "startlinecolor": "#2a3f5f"
            },
            "type": "carpet"
           }
          ],
          "choropleth": [
           {
            "colorbar": {
             "outlinewidth": 0,
             "ticks": ""
            },
            "type": "choropleth"
           }
          ],
          "contour": [
           {
            "colorbar": {
             "outlinewidth": 0,
             "ticks": ""
            },
            "colorscale": [
             [
              0,
              "#0d0887"
             ],
             [
              0.1111111111111111,
              "#46039f"
             ],
             [
              0.2222222222222222,
              "#7201a8"
             ],
             [
              0.3333333333333333,
              "#9c179e"
             ],
             [
              0.4444444444444444,
              "#bd3786"
             ],
             [
              0.5555555555555556,
              "#d8576b"
             ],
             [
              0.6666666666666666,
              "#ed7953"
             ],
             [
              0.7777777777777778,
              "#fb9f3a"
             ],
             [
              0.8888888888888888,
              "#fdca26"
             ],
             [
              1,
              "#f0f921"
             ]
            ],
            "type": "contour"
           }
          ],
          "contourcarpet": [
           {
            "colorbar": {
             "outlinewidth": 0,
             "ticks": ""
            },
            "type": "contourcarpet"
           }
          ],
          "heatmap": [
           {
            "colorbar": {
             "outlinewidth": 0,
             "ticks": ""
            },
            "colorscale": [
             [
              0,
              "#0d0887"
             ],
             [
              0.1111111111111111,
              "#46039f"
             ],
             [
              0.2222222222222222,
              "#7201a8"
             ],
             [
              0.3333333333333333,
              "#9c179e"
             ],
             [
              0.4444444444444444,
              "#bd3786"
             ],
             [
              0.5555555555555556,
              "#d8576b"
             ],
             [
              0.6666666666666666,
              "#ed7953"
             ],
             [
              0.7777777777777778,
              "#fb9f3a"
             ],
             [
              0.8888888888888888,
              "#fdca26"
             ],
             [
              1,
              "#f0f921"
             ]
            ],
            "type": "heatmap"
           }
          ],
          "heatmapgl": [
           {
            "colorbar": {
             "outlinewidth": 0,
             "ticks": ""
            },
            "colorscale": [
             [
              0,
              "#0d0887"
             ],
             [
              0.1111111111111111,
              "#46039f"
             ],
             [
              0.2222222222222222,
              "#7201a8"
             ],
             [
              0.3333333333333333,
              "#9c179e"
             ],
             [
              0.4444444444444444,
              "#bd3786"
             ],
             [
              0.5555555555555556,
              "#d8576b"
             ],
             [
              0.6666666666666666,
              "#ed7953"
             ],
             [
              0.7777777777777778,
              "#fb9f3a"
             ],
             [
              0.8888888888888888,
              "#fdca26"
             ],
             [
              1,
              "#f0f921"
             ]
            ],
            "type": "heatmapgl"
           }
          ],
          "histogram": [
           {
            "marker": {
             "pattern": {
              "fillmode": "overlay",
              "size": 10,
              "solidity": 0.2
             }
            },
            "type": "histogram"
           }
          ],
          "histogram2d": [
           {
            "colorbar": {
             "outlinewidth": 0,
             "ticks": ""
            },
            "colorscale": [
             [
              0,
              "#0d0887"
             ],
             [
              0.1111111111111111,
              "#46039f"
             ],
             [
              0.2222222222222222,
              "#7201a8"
             ],
             [
              0.3333333333333333,
              "#9c179e"
             ],
             [
              0.4444444444444444,
              "#bd3786"
             ],
             [
              0.5555555555555556,
              "#d8576b"
             ],
             [
              0.6666666666666666,
              "#ed7953"
             ],
             [
              0.7777777777777778,
              "#fb9f3a"
             ],
             [
              0.8888888888888888,
              "#fdca26"
             ],
             [
              1,
              "#f0f921"
             ]
            ],
            "type": "histogram2d"
           }
          ],
          "histogram2dcontour": [
           {
            "colorbar": {
             "outlinewidth": 0,
             "ticks": ""
            },
            "colorscale": [
             [
              0,
              "#0d0887"
             ],
             [
              0.1111111111111111,
              "#46039f"
             ],
             [
              0.2222222222222222,
              "#7201a8"
             ],
             [
              0.3333333333333333,
              "#9c179e"
             ],
             [
              0.4444444444444444,
              "#bd3786"
             ],
             [
              0.5555555555555556,
              "#d8576b"
             ],
             [
              0.6666666666666666,
              "#ed7953"
             ],
             [
              0.7777777777777778,
              "#fb9f3a"
             ],
             [
              0.8888888888888888,
              "#fdca26"
             ],
             [
              1,
              "#f0f921"
             ]
            ],
            "type": "histogram2dcontour"
           }
          ],
          "mesh3d": [
           {
            "colorbar": {
             "outlinewidth": 0,
             "ticks": ""
            },
            "type": "mesh3d"
           }
          ],
          "parcoords": [
           {
            "line": {
             "colorbar": {
              "outlinewidth": 0,
              "ticks": ""
             }
            },
            "type": "parcoords"
           }
          ],
          "pie": [
           {
            "automargin": true,
            "type": "pie"
           }
          ],
          "scatter": [
           {
            "fillpattern": {
             "fillmode": "overlay",
             "size": 10,
             "solidity": 0.2
            },
            "type": "scatter"
           }
          ],
          "scatter3d": [
           {
            "line": {
             "colorbar": {
              "outlinewidth": 0,
              "ticks": ""
             }
            },
            "marker": {
             "colorbar": {
              "outlinewidth": 0,
              "ticks": ""
             }
            },
            "type": "scatter3d"
           }
          ],
          "scattercarpet": [
           {
            "marker": {
             "colorbar": {
              "outlinewidth": 0,
              "ticks": ""
             }
            },
            "type": "scattercarpet"
           }
          ],
          "scattergeo": [
           {
            "marker": {
             "colorbar": {
              "outlinewidth": 0,
              "ticks": ""
             }
            },
            "type": "scattergeo"
           }
          ],
          "scattergl": [
           {
            "marker": {
             "colorbar": {
              "outlinewidth": 0,
              "ticks": ""
             }
            },
            "type": "scattergl"
           }
          ],
          "scattermapbox": [
           {
            "marker": {
             "colorbar": {
              "outlinewidth": 0,
              "ticks": ""
             }
            },
            "type": "scattermapbox"
           }
          ],
          "scatterpolar": [
           {
            "marker": {
             "colorbar": {
              "outlinewidth": 0,
              "ticks": ""
             }
            },
            "type": "scatterpolar"
           }
          ],
          "scatterpolargl": [
           {
            "marker": {
             "colorbar": {
              "outlinewidth": 0,
              "ticks": ""
             }
            },
            "type": "scatterpolargl"
           }
          ],
          "scatterternary": [
           {
            "marker": {
             "colorbar": {
              "outlinewidth": 0,
              "ticks": ""
             }
            },
            "type": "scatterternary"
           }
          ],
          "surface": [
           {
            "colorbar": {
             "outlinewidth": 0,
             "ticks": ""
            },
            "colorscale": [
             [
              0,
              "#0d0887"
             ],
             [
              0.1111111111111111,
              "#46039f"
             ],
             [
              0.2222222222222222,
              "#7201a8"
             ],
             [
              0.3333333333333333,
              "#9c179e"
             ],
             [
              0.4444444444444444,
              "#bd3786"
             ],
             [
              0.5555555555555556,
              "#d8576b"
             ],
             [
              0.6666666666666666,
              "#ed7953"
             ],
             [
              0.7777777777777778,
              "#fb9f3a"
             ],
             [
              0.8888888888888888,
              "#fdca26"
             ],
             [
              1,
              "#f0f921"
             ]
            ],
            "type": "surface"
           }
          ],
          "table": [
           {
            "cells": {
             "fill": {
              "color": "#EBF0F8"
             },
             "line": {
              "color": "white"
             }
            },
            "header": {
             "fill": {
              "color": "#C8D4E3"
             },
             "line": {
              "color": "white"
             }
            },
            "type": "table"
           }
          ]
         },
         "layout": {
          "annotationdefaults": {
           "arrowcolor": "#2a3f5f",
           "arrowhead": 0,
           "arrowwidth": 1
          },
          "autotypenumbers": "strict",
          "coloraxis": {
           "colorbar": {
            "outlinewidth": 0,
            "ticks": ""
           }
          },
          "colorscale": {
           "diverging": [
            [
             0,
             "#8e0152"
            ],
            [
             0.1,
             "#c51b7d"
            ],
            [
             0.2,
             "#de77ae"
            ],
            [
             0.3,
             "#f1b6da"
            ],
            [
             0.4,
             "#fde0ef"
            ],
            [
             0.5,
             "#f7f7f7"
            ],
            [
             0.6,
             "#e6f5d0"
            ],
            [
             0.7,
             "#b8e186"
            ],
            [
             0.8,
             "#7fbc41"
            ],
            [
             0.9,
             "#4d9221"
            ],
            [
             1,
             "#276419"
            ]
           ],
           "sequential": [
            [
             0,
             "#0d0887"
            ],
            [
             0.1111111111111111,
             "#46039f"
            ],
            [
             0.2222222222222222,
             "#7201a8"
            ],
            [
             0.3333333333333333,
             "#9c179e"
            ],
            [
             0.4444444444444444,
             "#bd3786"
            ],
            [
             0.5555555555555556,
             "#d8576b"
            ],
            [
             0.6666666666666666,
             "#ed7953"
            ],
            [
             0.7777777777777778,
             "#fb9f3a"
            ],
            [
             0.8888888888888888,
             "#fdca26"
            ],
            [
             1,
             "#f0f921"
            ]
           ],
           "sequentialminus": [
            [
             0,
             "#0d0887"
            ],
            [
             0.1111111111111111,
             "#46039f"
            ],
            [
             0.2222222222222222,
             "#7201a8"
            ],
            [
             0.3333333333333333,
             "#9c179e"
            ],
            [
             0.4444444444444444,
             "#bd3786"
            ],
            [
             0.5555555555555556,
             "#d8576b"
            ],
            [
             0.6666666666666666,
             "#ed7953"
            ],
            [
             0.7777777777777778,
             "#fb9f3a"
            ],
            [
             0.8888888888888888,
             "#fdca26"
            ],
            [
             1,
             "#f0f921"
            ]
           ]
          },
          "colorway": [
           "#636efa",
           "#EF553B",
           "#00cc96",
           "#ab63fa",
           "#FFA15A",
           "#19d3f3",
           "#FF6692",
           "#B6E880",
           "#FF97FF",
           "#FECB52"
          ],
          "font": {
           "color": "#2a3f5f"
          },
          "geo": {
           "bgcolor": "white",
           "lakecolor": "white",
           "landcolor": "#E5ECF6",
           "showlakes": true,
           "showland": true,
           "subunitcolor": "white"
          },
          "hoverlabel": {
           "align": "left"
          },
          "hovermode": "closest",
          "mapbox": {
           "style": "light"
          },
          "paper_bgcolor": "white",
          "plot_bgcolor": "#E5ECF6",
          "polar": {
           "angularaxis": {
            "gridcolor": "white",
            "linecolor": "white",
            "ticks": ""
           },
           "bgcolor": "#E5ECF6",
           "radialaxis": {
            "gridcolor": "white",
            "linecolor": "white",
            "ticks": ""
           }
          },
          "scene": {
           "xaxis": {
            "backgroundcolor": "#E5ECF6",
            "gridcolor": "white",
            "gridwidth": 2,
            "linecolor": "white",
            "showbackground": true,
            "ticks": "",
            "zerolinecolor": "white"
           },
           "yaxis": {
            "backgroundcolor": "#E5ECF6",
            "gridcolor": "white",
            "gridwidth": 2,
            "linecolor": "white",
            "showbackground": true,
            "ticks": "",
            "zerolinecolor": "white"
           },
           "zaxis": {
            "backgroundcolor": "#E5ECF6",
            "gridcolor": "white",
            "gridwidth": 2,
            "linecolor": "white",
            "showbackground": true,
            "ticks": "",
            "zerolinecolor": "white"
           }
          },
          "shapedefaults": {
           "line": {
            "color": "#2a3f5f"
           }
          },
          "ternary": {
           "aaxis": {
            "gridcolor": "white",
            "linecolor": "white",
            "ticks": ""
           },
           "baxis": {
            "gridcolor": "white",
            "linecolor": "white",
            "ticks": ""
           },
           "bgcolor": "#E5ECF6",
           "caxis": {
            "gridcolor": "white",
            "linecolor": "white",
            "ticks": ""
           }
          },
          "title": {
           "x": 0.05
          },
          "xaxis": {
           "automargin": true,
           "gridcolor": "white",
           "linecolor": "white",
           "ticks": "",
           "title": {
            "standoff": 15
           },
           "zerolinecolor": "white",
           "zerolinewidth": 2
          },
          "yaxis": {
           "automargin": true,
           "gridcolor": "white",
           "linecolor": "white",
           "ticks": "",
           "title": {
            "standoff": 15
           },
           "zerolinecolor": "white",
           "zerolinewidth": 2
          }
         }
        },
        "title": {
         "text": "Country dependency by sales values (%)"
        },
        "width": 1000
       }
      },
      "text/html": [
       "<div>                            <div id=\"6642b3ec-fe09-4641-9aa6-81e19acd8580\" class=\"plotly-graph-div\" style=\"height:500px; width:1000px;\"></div>            <script type=\"text/javascript\">                require([\"plotly\"], function(Plotly) {                    window.PLOTLYENV=window.PLOTLYENV || {};                                    if (document.getElementById(\"6642b3ec-fe09-4641-9aa6-81e19acd8580\")) {                    Plotly.newPlot(                        \"6642b3ec-fe09-4641-9aa6-81e19acd8580\",                        [{\"colorbar\":{\"title\":{\"text\":\"Rel_Country_Dependency_BySalesValue\"}},\"colorscale\":[[0.0,\"rgb(255,247,236)\"],[0.125,\"rgb(254,232,200)\"],[0.25,\"rgb(253,212,158)\"],[0.375,\"rgb(253,187,132)\"],[0.5,\"rgb(252,141,89)\"],[0.625,\"rgb(239,101,72)\"],[0.75,\"rgb(215,48,31)\"],[0.875,\"rgb(179,0,0)\"],[1.0,\"rgb(127,0,0)\"]],\"locationmode\":\"country names\",\"locations\":[\"Belgium\",\"France\",\"Germany\",\"Greece\",\"Italy\",\"Luxembourg\",\"Netherlands\",\"Portugal\",\"Serbia\",\"Spain\",\"United Kingdom\"],\"text\":[\"Belgium\",\"France\",\"Germany\",\"Greece\",\"Italy\",\"Luxembourg\",\"Netherlands\",\"Portugal\",\"Serbia\",\"Spain\",\"United Kingdom\"],\"z\":[0.13444329154412335,5.422689182483431,8.40846719852226,0.009749510912199845,3.469945323022477,0.09484969854912098,2.609212525910178,3.903137759250993,0.004905296448212897,74.37662419522698,1.5659760181300422],\"type\":\"choropleth\",\"uid\":\"e6451637-ad46-4a16-9026-2e4dc223b7e0\"}],                        {\"geo\":{\"projection\":{\"type\":\"natural earth\"},\"scope\":\"europe\",\"showframe\":false},\"title\":{\"text\":\"Country dependency by sales values (%)\"},\"template\":{\"data\":{\"barpolar\":[{\"marker\":{\"line\":{\"color\":\"#E5ECF6\",\"width\":0.5},\"pattern\":{\"fillmode\":\"overlay\",\"size\":10,\"solidity\":0.2}},\"type\":\"barpolar\"}],\"bar\":[{\"error_x\":{\"color\":\"#2a3f5f\"},\"error_y\":{\"color\":\"#2a3f5f\"},\"marker\":{\"line\":{\"color\":\"#E5ECF6\",\"width\":0.5},\"pattern\":{\"fillmode\":\"overlay\",\"size\":10,\"solidity\":0.2}},\"type\":\"bar\"}],\"carpet\":[{\"aaxis\":{\"endlinecolor\":\"#2a3f5f\",\"gridcolor\":\"white\",\"linecolor\":\"white\",\"minorgridcolor\":\"white\",\"startlinecolor\":\"#2a3f5f\"},\"baxis\":{\"endlinecolor\":\"#2a3f5f\",\"gridcolor\":\"white\",\"linecolor\":\"white\",\"minorgridcolor\":\"white\",\"startlinecolor\":\"#2a3f5f\"},\"type\":\"carpet\"}],\"choropleth\":[{\"colorbar\":{\"outlinewidth\":0,\"ticks\":\"\"},\"type\":\"choropleth\"}],\"contourcarpet\":[{\"colorbar\":{\"outlinewidth\":0,\"ticks\":\"\"},\"type\":\"contourcarpet\"}],\"contour\":[{\"colorbar\":{\"outlinewidth\":0,\"ticks\":\"\"},\"colorscale\":[[0.0,\"#0d0887\"],[0.1111111111111111,\"#46039f\"],[0.2222222222222222,\"#7201a8\"],[0.3333333333333333,\"#9c179e\"],[0.4444444444444444,\"#bd3786\"],[0.5555555555555556,\"#d8576b\"],[0.6666666666666666,\"#ed7953\"],[0.7777777777777778,\"#fb9f3a\"],[0.8888888888888888,\"#fdca26\"],[1.0,\"#f0f921\"]],\"type\":\"contour\"}],\"heatmapgl\":[{\"colorbar\":{\"outlinewidth\":0,\"ticks\":\"\"},\"colorscale\":[[0.0,\"#0d0887\"],[0.1111111111111111,\"#46039f\"],[0.2222222222222222,\"#7201a8\"],[0.3333333333333333,\"#9c179e\"],[0.4444444444444444,\"#bd3786\"],[0.5555555555555556,\"#d8576b\"],[0.6666666666666666,\"#ed7953\"],[0.7777777777777778,\"#fb9f3a\"],[0.8888888888888888,\"#fdca26\"],[1.0,\"#f0f921\"]],\"type\":\"heatmapgl\"}],\"heatmap\":[{\"colorbar\":{\"outlinewidth\":0,\"ticks\":\"\"},\"colorscale\":[[0.0,\"#0d0887\"],[0.1111111111111111,\"#46039f\"],[0.2222222222222222,\"#7201a8\"],[0.3333333333333333,\"#9c179e\"],[0.4444444444444444,\"#bd3786\"],[0.5555555555555556,\"#d8576b\"],[0.6666666666666666,\"#ed7953\"],[0.7777777777777778,\"#fb9f3a\"],[0.8888888888888888,\"#fdca26\"],[1.0,\"#f0f921\"]],\"type\":\"heatmap\"}],\"histogram2dcontour\":[{\"colorbar\":{\"outlinewidth\":0,\"ticks\":\"\"},\"colorscale\":[[0.0,\"#0d0887\"],[0.1111111111111111,\"#46039f\"],[0.2222222222222222,\"#7201a8\"],[0.3333333333333333,\"#9c179e\"],[0.4444444444444444,\"#bd3786\"],[0.5555555555555556,\"#d8576b\"],[0.6666666666666666,\"#ed7953\"],[0.7777777777777778,\"#fb9f3a\"],[0.8888888888888888,\"#fdca26\"],[1.0,\"#f0f921\"]],\"type\":\"histogram2dcontour\"}],\"histogram2d\":[{\"colorbar\":{\"outlinewidth\":0,\"ticks\":\"\"},\"colorscale\":[[0.0,\"#0d0887\"],[0.1111111111111111,\"#46039f\"],[0.2222222222222222,\"#7201a8\"],[0.3333333333333333,\"#9c179e\"],[0.4444444444444444,\"#bd3786\"],[0.5555555555555556,\"#d8576b\"],[0.6666666666666666,\"#ed7953\"],[0.7777777777777778,\"#fb9f3a\"],[0.8888888888888888,\"#fdca26\"],[1.0,\"#f0f921\"]],\"type\":\"histogram2d\"}],\"histogram\":[{\"marker\":{\"pattern\":{\"fillmode\":\"overlay\",\"size\":10,\"solidity\":0.2}},\"type\":\"histogram\"}],\"mesh3d\":[{\"colorbar\":{\"outlinewidth\":0,\"ticks\":\"\"},\"type\":\"mesh3d\"}],\"parcoords\":[{\"line\":{\"colorbar\":{\"outlinewidth\":0,\"ticks\":\"\"}},\"type\":\"parcoords\"}],\"pie\":[{\"automargin\":true,\"type\":\"pie\"}],\"scatter3d\":[{\"line\":{\"colorbar\":{\"outlinewidth\":0,\"ticks\":\"\"}},\"marker\":{\"colorbar\":{\"outlinewidth\":0,\"ticks\":\"\"}},\"type\":\"scatter3d\"}],\"scattercarpet\":[{\"marker\":{\"colorbar\":{\"outlinewidth\":0,\"ticks\":\"\"}},\"type\":\"scattercarpet\"}],\"scattergeo\":[{\"marker\":{\"colorbar\":{\"outlinewidth\":0,\"ticks\":\"\"}},\"type\":\"scattergeo\"}],\"scattergl\":[{\"marker\":{\"colorbar\":{\"outlinewidth\":0,\"ticks\":\"\"}},\"type\":\"scattergl\"}],\"scattermapbox\":[{\"marker\":{\"colorbar\":{\"outlinewidth\":0,\"ticks\":\"\"}},\"type\":\"scattermapbox\"}],\"scatterpolargl\":[{\"marker\":{\"colorbar\":{\"outlinewidth\":0,\"ticks\":\"\"}},\"type\":\"scatterpolargl\"}],\"scatterpolar\":[{\"marker\":{\"colorbar\":{\"outlinewidth\":0,\"ticks\":\"\"}},\"type\":\"scatterpolar\"}],\"scatter\":[{\"fillpattern\":{\"fillmode\":\"overlay\",\"size\":10,\"solidity\":0.2},\"type\":\"scatter\"}],\"scatterternary\":[{\"marker\":{\"colorbar\":{\"outlinewidth\":0,\"ticks\":\"\"}},\"type\":\"scatterternary\"}],\"surface\":[{\"colorbar\":{\"outlinewidth\":0,\"ticks\":\"\"},\"colorscale\":[[0.0,\"#0d0887\"],[0.1111111111111111,\"#46039f\"],[0.2222222222222222,\"#7201a8\"],[0.3333333333333333,\"#9c179e\"],[0.4444444444444444,\"#bd3786\"],[0.5555555555555556,\"#d8576b\"],[0.6666666666666666,\"#ed7953\"],[0.7777777777777778,\"#fb9f3a\"],[0.8888888888888888,\"#fdca26\"],[1.0,\"#f0f921\"]],\"type\":\"surface\"}],\"table\":[{\"cells\":{\"fill\":{\"color\":\"#EBF0F8\"},\"line\":{\"color\":\"white\"}},\"header\":{\"fill\":{\"color\":\"#C8D4E3\"},\"line\":{\"color\":\"white\"}},\"type\":\"table\"}]},\"layout\":{\"annotationdefaults\":{\"arrowcolor\":\"#2a3f5f\",\"arrowhead\":0,\"arrowwidth\":1},\"autotypenumbers\":\"strict\",\"coloraxis\":{\"colorbar\":{\"outlinewidth\":0,\"ticks\":\"\"}},\"colorscale\":{\"diverging\":[[0,\"#8e0152\"],[0.1,\"#c51b7d\"],[0.2,\"#de77ae\"],[0.3,\"#f1b6da\"],[0.4,\"#fde0ef\"],[0.5,\"#f7f7f7\"],[0.6,\"#e6f5d0\"],[0.7,\"#b8e186\"],[0.8,\"#7fbc41\"],[0.9,\"#4d9221\"],[1,\"#276419\"]],\"sequential\":[[0.0,\"#0d0887\"],[0.1111111111111111,\"#46039f\"],[0.2222222222222222,\"#7201a8\"],[0.3333333333333333,\"#9c179e\"],[0.4444444444444444,\"#bd3786\"],[0.5555555555555556,\"#d8576b\"],[0.6666666666666666,\"#ed7953\"],[0.7777777777777778,\"#fb9f3a\"],[0.8888888888888888,\"#fdca26\"],[1.0,\"#f0f921\"]],\"sequentialminus\":[[0.0,\"#0d0887\"],[0.1111111111111111,\"#46039f\"],[0.2222222222222222,\"#7201a8\"],[0.3333333333333333,\"#9c179e\"],[0.4444444444444444,\"#bd3786\"],[0.5555555555555556,\"#d8576b\"],[0.6666666666666666,\"#ed7953\"],[0.7777777777777778,\"#fb9f3a\"],[0.8888888888888888,\"#fdca26\"],[1.0,\"#f0f921\"]]},\"colorway\":[\"#636efa\",\"#EF553B\",\"#00cc96\",\"#ab63fa\",\"#FFA15A\",\"#19d3f3\",\"#FF6692\",\"#B6E880\",\"#FF97FF\",\"#FECB52\"],\"font\":{\"color\":\"#2a3f5f\"},\"geo\":{\"bgcolor\":\"white\",\"lakecolor\":\"white\",\"landcolor\":\"#E5ECF6\",\"showlakes\":true,\"showland\":true,\"subunitcolor\":\"white\"},\"hoverlabel\":{\"align\":\"left\"},\"hovermode\":\"closest\",\"mapbox\":{\"style\":\"light\"},\"paper_bgcolor\":\"white\",\"plot_bgcolor\":\"#E5ECF6\",\"polar\":{\"angularaxis\":{\"gridcolor\":\"white\",\"linecolor\":\"white\",\"ticks\":\"\"},\"bgcolor\":\"#E5ECF6\",\"radialaxis\":{\"gridcolor\":\"white\",\"linecolor\":\"white\",\"ticks\":\"\"}},\"scene\":{\"xaxis\":{\"backgroundcolor\":\"#E5ECF6\",\"gridcolor\":\"white\",\"gridwidth\":2,\"linecolor\":\"white\",\"showbackground\":true,\"ticks\":\"\",\"zerolinecolor\":\"white\"},\"yaxis\":{\"backgroundcolor\":\"#E5ECF6\",\"gridcolor\":\"white\",\"gridwidth\":2,\"linecolor\":\"white\",\"showbackground\":true,\"ticks\":\"\",\"zerolinecolor\":\"white\"},\"zaxis\":{\"backgroundcolor\":\"#E5ECF6\",\"gridcolor\":\"white\",\"gridwidth\":2,\"linecolor\":\"white\",\"showbackground\":true,\"ticks\":\"\",\"zerolinecolor\":\"white\"}},\"shapedefaults\":{\"line\":{\"color\":\"#2a3f5f\"}},\"ternary\":{\"aaxis\":{\"gridcolor\":\"white\",\"linecolor\":\"white\",\"ticks\":\"\"},\"baxis\":{\"gridcolor\":\"white\",\"linecolor\":\"white\",\"ticks\":\"\"},\"bgcolor\":\"#E5ECF6\",\"caxis\":{\"gridcolor\":\"white\",\"linecolor\":\"white\",\"ticks\":\"\"}},\"title\":{\"x\":0.05},\"xaxis\":{\"automargin\":true,\"gridcolor\":\"white\",\"linecolor\":\"white\",\"ticks\":\"\",\"title\":{\"standoff\":15},\"zerolinecolor\":\"white\",\"zerolinewidth\":2},\"yaxis\":{\"automargin\":true,\"gridcolor\":\"white\",\"linecolor\":\"white\",\"ticks\":\"\",\"title\":{\"standoff\":15},\"zerolinecolor\":\"white\",\"zerolinewidth\":2}}},\"autosize\":false,\"width\":1000,\"height\":500},                        {\"responsive\": true}                    ).then(function(){\n",
       "                            \n",
       "var gd = document.getElementById('6642b3ec-fe09-4641-9aa6-81e19acd8580');\n",
       "var x = new MutationObserver(function (mutations, observer) {{\n",
       "        var display = window.getComputedStyle(gd).display;\n",
       "        if (!display || display === 'none') {{\n",
       "            console.log([gd, 'removed!']);\n",
       "            Plotly.purge(gd);\n",
       "            observer.disconnect();\n",
       "        }}\n",
       "}});\n",
       "\n",
       "// Listen for the removal of the full notebook cells\n",
       "var notebookContainer = gd.closest('#notebook-container');\n",
       "if (notebookContainer) {{\n",
       "    x.observe(notebookContainer, {childList: true});\n",
       "}}\n",
       "\n",
       "// Listen for the clearing of the current output cell\n",
       "var outputEl = gd.closest('.output');\n",
       "if (outputEl) {{\n",
       "    x.observe(outputEl, {childList: true});\n",
       "}}\n",
       "\n",
       "                        })                };                });            </script>        </div>"
      ]
     },
     "metadata": {},
     "output_type": "display_data"
    }
   ],
   "source": [
    "data = dict(\n",
    "type = 'choropleth',\n",
    "colorscale = 'OrRd',\n",
    "locations = byCountry['Supplier country'],\n",
    "locationmode = \"country names\",\n",
    "z = byCountry['Rel_Country_Dependency_BySalesValue'],\n",
    "text = byCountry['Supplier country'],\n",
    "colorbar = {'title' : 'Rel_Country_Dependency_BySalesValue'},\n",
    ")\n",
    "\n",
    "layout = dict(title = 'Country dependency by sales values (%)',geo = dict(showframe = False,projection = {'type':'natural earth'}, scope='europe',)\n",
    ")\n",
    "\n",
    "chmap = go.FigureWidget(data = [data],layout = layout)\n",
    "\n",
    "chmap.update_layout(\n",
    "    autosize=False,\n",
    "    width=1000,\n",
    "    height=500,\n",
    ")\n",
    "# iplot(chmap)\n",
    "chmap.show()"
   ]
  },
  {
   "cell_type": "code",
   "execution_count": null,
   "id": "d91c2648",
   "metadata": {},
   "outputs": [],
   "source": []
  }
 ],
 "metadata": {
  "kernelspec": {
   "display_name": "Python 3 (ipykernel)",
   "language": "python",
   "name": "python3"
  },
  "language_info": {
   "codemirror_mode": {
    "name": "ipython",
    "version": 3
   },
   "file_extension": ".py",
   "mimetype": "text/x-python",
   "name": "python",
   "nbconvert_exporter": "python",
   "pygments_lexer": "ipython3",
   "version": "3.10.6"
  }
 },
 "nbformat": 4,
 "nbformat_minor": 5
}
